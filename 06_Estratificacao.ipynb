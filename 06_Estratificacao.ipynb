{
 "nbformat": 4,
 "nbformat_minor": 0,
 "metadata": {
  "kernelspec": {
   "name": "python3",
   "language": "python",
   "display_name": "Python 3"
  },
  "language_info": {
   "codemirror_mode": "r",
   "file_extension": ".r",
   "mimetype": "text/x-r-source",
   "name": "R",
   "pygments_lexer": "r",
   "version": "3.3.1"
  },
  "colab": {
   "name": "07_Estratificacao.ipynb",
   "provenance": [],
   "collapsed_sections": []
  },
  "pycharm": {
   "stem_cell": {
    "cell_type": "raw",
    "source": [],
    "metadata": {
     "collapsed": false
    }
   }
  }
 },
 "cells": [
  {
   "cell_type": "markdown",
   "metadata": {
    "id": "C_98iTtYdv0l",
    "colab_type": "text"
   },
   "source": [
    "[![](https://colab.research.google.com/assets/colab-badge.svg)](https://colab.research.google.com/github/brunomssmelo/Python_em_Auditoria/blob/master/06_Estratificacao.ipynb)\n",
    "\n",
    "# **Análise de Dados aplicada à Auditoria com _Python_**\n",
    "\n",
    "## **Técnicas de Auditoria Assistidas por Computador - TAACs**\n",
    "### _Estratificação_"
   ]
  },
  {
   "cell_type": "code",
   "metadata": {
    "id": "fpsaKU0ey6Rz",
    "colab_type": "code",
    "colab": {},
    "pycharm": {
     "is_executing": false
    }
   },
   "source": [
    "# Antes de prosseguirmos, deveremos carregar as bibliotecas necessárias:\n",
    "import pandas as pd #pandas"
   ],
   "execution_count": 1,
   "outputs": []
  },
  {
   "cell_type": "code",
   "metadata": {
    "id": "ZNl-hDxdwn99",
    "colab_type": "code",
    "outputId": "b0b6c6e9-b738-48c8-ea0c-0e4cb519030a",
    "colab": {
     "base_uri": "https://localhost:8080/",
     "height": 408
    },
    "pycharm": {
     "is_executing": false
    }
   },
   "source": [
    "# A importação dos dados pode ser realizada com o método read_csv():\n",
    "faturas = pd.read_csv('./dados/Invoices.csv',  encoding='latin1', sep=';', decimal=',', na_values=' ')\n",
    "\n",
    "# Podemos visualizar os registros iniciais dos dados importados com o método head():\n",
    "faturas.head()"
   ],
   "execution_count": 2,
   "outputs": [
    {
     "data": {
      "text/plain": "         Date  InvoiceNo  CustomerNo  SalesPerson  ProductNo  UnitPrice  \\\n0  09/07/2003      20000       10220            8          8        9.2   \n1  21/08/2003      20001       10491            4         48       14.0   \n2  27/08/2003      20002       10704            3         43       15.0   \n3  28/05/2003      20003       10430            5         54       24.0   \n4  06/12/2003      20004       10841           17         11       15.0   \n\n   Quantity  Amount  \n0        41   377.2  \n1        30   420.0  \n2        25   375.0  \n3        22   528.0  \n4        21   315.0  ",
      "text/html": "<div>\n<style scoped>\n    .dataframe tbody tr th:only-of-type {\n        vertical-align: middle;\n    }\n\n    .dataframe tbody tr th {\n        vertical-align: top;\n    }\n\n    .dataframe thead th {\n        text-align: right;\n    }\n</style>\n<table border=\"1\" class=\"dataframe\">\n  <thead>\n    <tr style=\"text-align: right;\">\n      <th></th>\n      <th>Date</th>\n      <th>InvoiceNo</th>\n      <th>CustomerNo</th>\n      <th>SalesPerson</th>\n      <th>ProductNo</th>\n      <th>UnitPrice</th>\n      <th>Quantity</th>\n      <th>Amount</th>\n    </tr>\n  </thead>\n  <tbody>\n    <tr>\n      <th>0</th>\n      <td>09/07/2003</td>\n      <td>20000</td>\n      <td>10220</td>\n      <td>8</td>\n      <td>8</td>\n      <td>9.2</td>\n      <td>41</td>\n      <td>377.2</td>\n    </tr>\n    <tr>\n      <th>1</th>\n      <td>21/08/2003</td>\n      <td>20001</td>\n      <td>10491</td>\n      <td>4</td>\n      <td>48</td>\n      <td>14.0</td>\n      <td>30</td>\n      <td>420.0</td>\n    </tr>\n    <tr>\n      <th>2</th>\n      <td>27/08/2003</td>\n      <td>20002</td>\n      <td>10704</td>\n      <td>3</td>\n      <td>43</td>\n      <td>15.0</td>\n      <td>25</td>\n      <td>375.0</td>\n    </tr>\n    <tr>\n      <th>3</th>\n      <td>28/05/2003</td>\n      <td>20003</td>\n      <td>10430</td>\n      <td>5</td>\n      <td>54</td>\n      <td>24.0</td>\n      <td>22</td>\n      <td>528.0</td>\n    </tr>\n    <tr>\n      <th>4</th>\n      <td>06/12/2003</td>\n      <td>20004</td>\n      <td>10841</td>\n      <td>17</td>\n      <td>11</td>\n      <td>15.0</td>\n      <td>21</td>\n      <td>315.0</td>\n    </tr>\n  </tbody>\n</table>\n</div>"
     },
     "metadata": {},
     "output_type": "execute_result",
     "execution_count": 2
    }
   ]
  },
  {
   "cell_type": "markdown",
   "metadata": {
    "id": "tgWxT81ceaPU",
    "colab_type": "text"
   },
   "source": [
    "<br>\n",
    "\n",
    "A estratificação consiste em classificar os registros de um conjunto de dados em estratos mutuamente exclusivos.\n",
    "\n",
    "Em auditoria esta classificação é feita usualmente com base em valores monetários. O procedimento consiste em se \n",
    "estabelecer faixas de valores e indicar, para cada registro, a que faixa de valor ele pertence.\n",
    "\n",
    "> **Nota:** Este procedimento de transformar uma variável quantitativa em qualitativa também é conhecido como \n",
    "> discretização de variável.\n",
    "\n",
    "Para ilustrar a execução deste procedimento vamos utilizar o conjunto de dados `Invoices.csv`.\n",
    "\n",
    "O primeiro passo para se definir os estratos consiste em se estabelecer as faixas de valores para a variável a ser \n",
    "utilizada na estratificação nas quais se deseja classificar os registros. Para isso, faz-se necessário conhecer os \n",
    "valores máximo e mínimo do conjunto de dados, o que pode ser feito facilmente com a funções `min()` e `max()`."
   ]
  },
  {
   "cell_type": "code",
   "metadata": {
    "id": "47D9x1aFhR0E",
    "colab_type": "code",
    "outputId": "ab4807eb-5c59-4741-fd5e-4c8babc46d4e",
    "colab": {
     "base_uri": "https://localhost:8080/",
     "height": 79
    },
    "pycharm": {
     "is_executing": false
    }
   },
   "source": [
    "print(min(faturas.Amount))\n",
    "\n",
    "print(max(faturas.Amount))"
   ],
   "execution_count": 3,
   "outputs": [
    {
     "name": "stdout",
     "text": [
      "5.0\n",
      "13438.5\n"
     ],
     "output_type": "stream"
    }
   ]
  },
  {
   "cell_type": "markdown",
   "metadata": {
    "id": "zADxE4iuhNhd",
    "colab_type": "text"
   },
   "source": [
    "Considerando que os valores das faturas variam entre `R\\$ 5,00` e `R\\$ 13.438,50` e que desejamos estabelecer 3 estratos \n",
    "(baixos valores, valores medianos e altos valores) poderíamos ter os seguintes estratos:\n",
    "\n",
    "**Estrato 1** - `R\\$ 5,00` a `R\\$1.000,00`    \n",
    "**Estrato 2** - `R\\$ 1.000,01` a `R\\$10.000,00`   \n",
    "**Estrato 3** - `R\\$ 10.000,01` a `R\\$ 13.438,50`   \n",
    "\n",
    "A definição da quantidade de estratos (3 neste exemplo) e da amplitude de cada faixa é uma escolha subjetiva do auditor.  Deve-se observar que as faixas de valores podem ou não ter a mesma amplitude.\n",
    "\n",
    "Para realizar a classificação dos registros da base de dados em cada um dos estratos definidos utiliza-sa a função \n",
    "**`cut()`**, como exemplificado a seguir:"
   ]
  },
  {
   "cell_type": "code",
   "metadata": {
    "id": "66fXPUOfhbSa",
    "colab_type": "code",
    "outputId": "11a11d54-7e94-4d54-bdf6-ebe579f70be4",
    "colab": {
     "base_uri": "https://localhost:8080/",
     "height": 204
    },
    "pycharm": {
     "name": "#%%\n",
     "is_executing": false
    }
   },
   "source": [
    "faturas = (faturas\n",
    "           .assign(Estratos = pd.cut(faturas.Amount,\n",
    "                                     bins=[0.00, 1000.00, 10000.00, 13500.00],\n",
    "                                     labels=[\"Baixo\", \"Medio\", \"Alto\"])))\n",
    "\n",
    "faturas.head()"
   ],
   "execution_count": 4,
   "outputs": [
    {
     "data": {
      "text/plain": "         Date  InvoiceNo  CustomerNo  SalesPerson  ProductNo  UnitPrice  \\\n0  09/07/2003      20000       10220            8          8        9.2   \n1  21/08/2003      20001       10491            4         48       14.0   \n2  27/08/2003      20002       10704            3         43       15.0   \n3  28/05/2003      20003       10430            5         54       24.0   \n4  06/12/2003      20004       10841           17         11       15.0   \n\n   Quantity  Amount Estratos  \n0        41   377.2    Baixo  \n1        30   420.0    Baixo  \n2        25   375.0    Baixo  \n3        22   528.0    Baixo  \n4        21   315.0    Baixo  ",
      "text/html": "<div>\n<style scoped>\n    .dataframe tbody tr th:only-of-type {\n        vertical-align: middle;\n    }\n\n    .dataframe tbody tr th {\n        vertical-align: top;\n    }\n\n    .dataframe thead th {\n        text-align: right;\n    }\n</style>\n<table border=\"1\" class=\"dataframe\">\n  <thead>\n    <tr style=\"text-align: right;\">\n      <th></th>\n      <th>Date</th>\n      <th>InvoiceNo</th>\n      <th>CustomerNo</th>\n      <th>SalesPerson</th>\n      <th>ProductNo</th>\n      <th>UnitPrice</th>\n      <th>Quantity</th>\n      <th>Amount</th>\n      <th>Estratos</th>\n    </tr>\n  </thead>\n  <tbody>\n    <tr>\n      <th>0</th>\n      <td>09/07/2003</td>\n      <td>20000</td>\n      <td>10220</td>\n      <td>8</td>\n      <td>8</td>\n      <td>9.2</td>\n      <td>41</td>\n      <td>377.2</td>\n      <td>Baixo</td>\n    </tr>\n    <tr>\n      <th>1</th>\n      <td>21/08/2003</td>\n      <td>20001</td>\n      <td>10491</td>\n      <td>4</td>\n      <td>48</td>\n      <td>14.0</td>\n      <td>30</td>\n      <td>420.0</td>\n      <td>Baixo</td>\n    </tr>\n    <tr>\n      <th>2</th>\n      <td>27/08/2003</td>\n      <td>20002</td>\n      <td>10704</td>\n      <td>3</td>\n      <td>43</td>\n      <td>15.0</td>\n      <td>25</td>\n      <td>375.0</td>\n      <td>Baixo</td>\n    </tr>\n    <tr>\n      <th>3</th>\n      <td>28/05/2003</td>\n      <td>20003</td>\n      <td>10430</td>\n      <td>5</td>\n      <td>54</td>\n      <td>24.0</td>\n      <td>22</td>\n      <td>528.0</td>\n      <td>Baixo</td>\n    </tr>\n    <tr>\n      <th>4</th>\n      <td>06/12/2003</td>\n      <td>20004</td>\n      <td>10841</td>\n      <td>17</td>\n      <td>11</td>\n      <td>15.0</td>\n      <td>21</td>\n      <td>315.0</td>\n      <td>Baixo</td>\n    </tr>\n  </tbody>\n</table>\n</div>"
     },
     "metadata": {},
     "output_type": "execute_result",
     "execution_count": 4
    }
   ]
  },
  {
   "cell_type": "markdown",
   "metadata": {
    "id": "WpMv9qOMhgZ7",
    "colab_type": "text"
   },
   "source": [
    "Agora o conjunto de dados contém uma nova coluna (`Estratos`) que classifica cada observação em um dos 3 estratos \n",
    "definidos pelo auditor.\n",
    "\n",
    "Feita a estratificação, pode-se agora calcular a quantidade de registros em cada estrato, o valor médio de cada estrato, \n",
    "a percentagem que cada estrato representa do valor total, etc.  Este é o assunto do tópico \n",
    "[Sumarização](https://colab.research.google.com/github/brunomssmelo/Python_em_Auditoria/blob/master/06_Estratificacao.ipynb).\n",
    "\n",
    "Para dividir a base de dados em `n` estratos de igual amplitude poderíamos utilizar o argumento `bins=` da função \n",
    "`cut()` definida na biblioteca *pandas*.\n",
    "\n",
    "Supondo que quiséssemos dividir a base de dados em 10 estratos de mesma amplitude, poderíamos fazer da seguinte forma:"
   ]
  },
  {
   "cell_type": "code",
   "metadata": {
    "id": "4FuoTxkDhthG",
    "colab_type": "code",
    "outputId": "978a28fe-c501-4bce-f546-aa6cc2896b4c",
    "colab": {
     "base_uri": "https://localhost:8080/",
     "height": 204
    },
    "pycharm": {
     "name": "#%%\n",
     "is_executing": false
    }
   },
   "source": [
    "faturas = (faturas\n",
    "           .assign(Estratos2 = pd.cut(faturas.Amount, bins=10, precision=5)))\n",
    "\n",
    "faturas.head()"
   ],
   "execution_count": 5,
   "outputs": [
    {
     "data": {
      "text/plain": "         Date  InvoiceNo  CustomerNo  SalesPerson  ProductNo  UnitPrice  \\\n0  09/07/2003      20000       10220            8          8        9.2   \n1  21/08/2003      20001       10491            4         48       14.0   \n2  27/08/2003      20002       10704            3         43       15.0   \n3  28/05/2003      20003       10430            5         54       24.0   \n4  06/12/2003      20004       10841           17         11       15.0   \n\n   Quantity  Amount Estratos           Estratos2  \n0        41   377.2    Baixo  (-8.4335, 1348.35]  \n1        30   420.0    Baixo  (-8.4335, 1348.35]  \n2        25   375.0    Baixo  (-8.4335, 1348.35]  \n3        22   528.0    Baixo  (-8.4335, 1348.35]  \n4        21   315.0    Baixo  (-8.4335, 1348.35]  ",
      "text/html": "<div>\n<style scoped>\n    .dataframe tbody tr th:only-of-type {\n        vertical-align: middle;\n    }\n\n    .dataframe tbody tr th {\n        vertical-align: top;\n    }\n\n    .dataframe thead th {\n        text-align: right;\n    }\n</style>\n<table border=\"1\" class=\"dataframe\">\n  <thead>\n    <tr style=\"text-align: right;\">\n      <th></th>\n      <th>Date</th>\n      <th>InvoiceNo</th>\n      <th>CustomerNo</th>\n      <th>SalesPerson</th>\n      <th>ProductNo</th>\n      <th>UnitPrice</th>\n      <th>Quantity</th>\n      <th>Amount</th>\n      <th>Estratos</th>\n      <th>Estratos2</th>\n    </tr>\n  </thead>\n  <tbody>\n    <tr>\n      <th>0</th>\n      <td>09/07/2003</td>\n      <td>20000</td>\n      <td>10220</td>\n      <td>8</td>\n      <td>8</td>\n      <td>9.2</td>\n      <td>41</td>\n      <td>377.2</td>\n      <td>Baixo</td>\n      <td>(-8.4335, 1348.35]</td>\n    </tr>\n    <tr>\n      <th>1</th>\n      <td>21/08/2003</td>\n      <td>20001</td>\n      <td>10491</td>\n      <td>4</td>\n      <td>48</td>\n      <td>14.0</td>\n      <td>30</td>\n      <td>420.0</td>\n      <td>Baixo</td>\n      <td>(-8.4335, 1348.35]</td>\n    </tr>\n    <tr>\n      <th>2</th>\n      <td>27/08/2003</td>\n      <td>20002</td>\n      <td>10704</td>\n      <td>3</td>\n      <td>43</td>\n      <td>15.0</td>\n      <td>25</td>\n      <td>375.0</td>\n      <td>Baixo</td>\n      <td>(-8.4335, 1348.35]</td>\n    </tr>\n    <tr>\n      <th>3</th>\n      <td>28/05/2003</td>\n      <td>20003</td>\n      <td>10430</td>\n      <td>5</td>\n      <td>54</td>\n      <td>24.0</td>\n      <td>22</td>\n      <td>528.0</td>\n      <td>Baixo</td>\n      <td>(-8.4335, 1348.35]</td>\n    </tr>\n    <tr>\n      <th>4</th>\n      <td>06/12/2003</td>\n      <td>20004</td>\n      <td>10841</td>\n      <td>17</td>\n      <td>11</td>\n      <td>15.0</td>\n      <td>21</td>\n      <td>315.0</td>\n      <td>Baixo</td>\n      <td>(-8.4335, 1348.35]</td>\n    </tr>\n  </tbody>\n</table>\n</div>"
     },
     "metadata": {},
     "output_type": "execute_result",
     "execution_count": 5
    }
   ]
  },
  {
   "cell_type": "markdown",
   "metadata": {
    "id": "r5QmobB_hxuX",
    "colab_type": "text"
   },
   "source": [
    "Os estrados definidos podem ser consultados da seguinte forma:"
   ]
  },
  {
   "cell_type": "code",
   "execution_count": 6,
   "outputs": [
    {
     "data": {
      "text/plain": "IntervalIndex([(-8.4335, 1348.35], (1348.35, 2691.7], (2691.7, 4035.05], (4035.05, 5378.4], (5378.4, 6721.75], (6721.75, 8065.1], (8065.1, 9408.45], (9408.45, 10751.8], (10751.8, 12095.15], (12095.15, 13438.5]],\n              closed='right',\n              dtype='interval[float64]')"
     },
     "metadata": {},
     "output_type": "execute_result",
     "execution_count": 6
    }
   ],
   "source": [
    "faturas.Estratos2.cat.categories"
   ],
   "metadata": {
    "collapsed": false,
    "pycharm": {
     "name": "#%%\n",
     "is_executing": false
    }
   }
  },
  {
   "cell_type": "markdown",
   "metadata": {
    "id": "JhfeY0T5h88S",
    "colab_type": "text"
   },
   "source": [
    "> **Nota:** Como não foi fornececido nomes para os estratos, a exemplo do que foi feito anteriormente, a função `cut()` \n",
    "> retorna os estratos no formato de intervalos abertos à esquerda e fechados à direita.\n",
    "\n",
    "> **Nota:** O argumento `precision=` foi utilizado para evitar que os limites dos intervalos fossem fornecidos em notação cientifica. \n",
    "> Este argumento fornece a quantidade de dígitos a ser utilizada para elaborar os limites dos intervalos."
   ]
  },
  {
   "cell_type": "markdown",
   "metadata": {
    "id": "2mm-yqXtnCgm",
    "colab_type": "text"
   },
   "source": [
    "<br>\n",
    "\n",
    "---\n",
    "\n",
    "![](./imagens/sua_vez_fundo_transp.png) **Agora é com você...**\n",
    "\n",
    "---\n",
    "\n"
   ]
  },
  {
   "cell_type": "markdown",
   "metadata": {
    "id": "XGO4TOgIpVoR",
    "colab_type": "text"
   },
   "source": [
    "<br>\n",
    "\n",
    "**1** - Crie uma nova variável que classifique os preços unitários dos produtos (`UnitPrice`) em 4 classes. Defina as \n",
    "classses da forma que entender mais conveniente. Coloque *labels* adequados."
   ]
  },
  {
   "cell_type": "code",
   "metadata": {
    "id": "9AL8myR1pfGb",
    "colab_type": "code",
    "colab": {},
    "pycharm": {
     "is_executing": false
    }
   },
   "source": [],
   "execution_count": 6,
   "outputs": []
  },
  {
   "cell_type": "markdown",
   "metadata": {
    "id": "HH1cuXqIqa68",
    "colab_type": "text"
   },
   "source": [
    "<br>\n",
    "\n",
    "**2** - Faça o mesmo com a variável `Quantity`, mas defina 3 classes de igual amplitude."
   ]
  },
  {
   "cell_type": "code",
   "metadata": {
    "id": "dwfOodgur_mQ",
    "colab_type": "code",
    "colab": {},
    "pycharm": {
     "name": "#%%\n",
     "is_executing": false
    }
   },
   "source": [],
   "execution_count": 6,
   "outputs": []
  }
 ]
}