{
 "nbformat": 4,
 "nbformat_minor": 0,
 "metadata": {
  "kernelspec": {
   "name": "python3",
   "language": "python",
   "display_name": "Python 3"
  },
  "language_info": {
   "codemirror_mode": "r",
   "file_extension": ".r",
   "mimetype": "text/x-r-source",
   "name": "R",
   "pygments_lexer": "r",
   "version": "3.3.1"
  },
  "colab": {
   "name": "03_Criar Novos Campos.ipynb",
   "provenance": [],
   "collapsed_sections": []
  },
  "pycharm": {
   "stem_cell": {
    "cell_type": "raw",
    "source": [],
    "metadata": {
     "collapsed": false
    }
   }
  }
 },
 "cells": [
  {
   "cell_type": "markdown",
   "metadata": {
    "id": "fpsaKU0ey6Rz",
    "colab_type": "code",
    "colab": {},
    "pycharm": {
     "name": "#%% md\n"
    }
   },
   "source": [
    "[![](https://colab.research.google.com/assets/colab-badge.svg)](https://colab.research.google.com/github/brunomssmelo/Python_em_Auditoria/blob/master/03_Criar_Novos_Campos.ipynb)\n",
    "\n",
    "# **Análise de Dados aplicada à Auditoria com _Python_**\n",
    "\n",
    "## **Técnicas de Auditoria Assistidas por Computador - TAACs**\n",
    "\n",
    "### _Criar Novos Campos_"
   ]
  },
  {
   "cell_type": "markdown",
   "source": [
    "> Este documento é uma adaptação para Python do <a href=\"https://colab.research.google.com/drive/1LA57_2XtNi_JWR0A4QSaOPEfNQ7xT1NT\">notebook</a> originalmente codificado em R."
   ],
   "metadata": {
    "collapsed": false
   }
  },
  {
   "cell_type": "code",
   "metadata": {
    "id": "ZNl-hDxdwn99",
    "colab_type": "code",
    "outputId": "c0a947c3-40b8-45b9-d2f7-b28a8381a4df",
    "colab": {
     "base_uri": "https://localhost:8080/",
     "height": 323
    },
    "pycharm": {
     "is_executing": false
    }
   },
   "source": [
    "# Antes de prosseguirmos, deveremos carregar aa bibliotecas necessárias:\n",
    "import pandas as pd"
   ],
   "execution_count": 1,
   "outputs": []
  },
  {
   "cell_type": "code",
   "execution_count": 2,
   "outputs": [
    {
     "data": {
      "text/plain": "   Codigo  Quant  PUnit   Valor\n0   10001     13  250.0  3250.0\n1   10002     12  275.0  3300.0\n2   10003     15  270.0  4050.0\n3   10004     11  200.0  2200.0\n4   10005     10  400.0  4000.0",
      "text/html": "<div>\n<style scoped>\n    .dataframe tbody tr th:only-of-type {\n        vertical-align: middle;\n    }\n\n    .dataframe tbody tr th {\n        vertical-align: top;\n    }\n\n    .dataframe thead th {\n        text-align: right;\n    }\n</style>\n<table border=\"1\" class=\"dataframe\">\n  <thead>\n    <tr style=\"text-align: right;\">\n      <th></th>\n      <th>Codigo</th>\n      <th>Quant</th>\n      <th>PUnit</th>\n      <th>Valor</th>\n    </tr>\n  </thead>\n  <tbody>\n    <tr>\n      <th>0</th>\n      <td>10001</td>\n      <td>13</td>\n      <td>250.0</td>\n      <td>3250.0</td>\n    </tr>\n    <tr>\n      <th>1</th>\n      <td>10002</td>\n      <td>12</td>\n      <td>275.0</td>\n      <td>3300.0</td>\n    </tr>\n    <tr>\n      <th>2</th>\n      <td>10003</td>\n      <td>15</td>\n      <td>270.0</td>\n      <td>4050.0</td>\n    </tr>\n    <tr>\n      <th>3</th>\n      <td>10004</td>\n      <td>11</td>\n      <td>200.0</td>\n      <td>2200.0</td>\n    </tr>\n    <tr>\n      <th>4</th>\n      <td>10005</td>\n      <td>10</td>\n      <td>400.0</td>\n      <td>4000.0</td>\n    </tr>\n  </tbody>\n</table>\n</div>"
     },
     "metadata": {},
     "output_type": "execute_result",
     "execution_count": 2
    }
   ],
   "source": [
    "# A importação dos dados pode ser realizada com o método read_table():\n",
    "hood = pd.read_table('./dados/hood.txt',  encoding='latin1', sep='\\s+', decimal=',', na_values=' ')\n",
    "\n",
    "# Podemos visualizar os registros iniciais dos dados importados com o método head():\n",
    "hood.head()"
   ],
   "metadata": {
    "collapsed": false,
    "pycharm": {
     "name": "#%%\n",
     "is_executing": false
    }
   }
  },
  {
   "cell_type": "markdown",
   "metadata": {
    "id": "HiP4_pyvzpSC",
    "colab_type": "code",
    "outputId": "26c5140e-58fb-4516-f750-3fb8e11e1eb4",
    "colab": {
     "base_uri": "https://localhost:8080/",
     "height": 119
    },
    "pycharm": {
     "name": "#%% md\n"
    }
   },
   "source": [
    "Podemos obter um \"quadro de informações gerais\" dos dados importados para o `DataFrame` `hood` por meio de uma chamada ao método `info()`, que pode ser encarado como uma espécie de equivalente em pandas para a função `glimpse()` do pacote tibble do R:  "
   ]
  },
  {
   "cell_type": "code",
   "execution_count": 3,
   "outputs": [
    {
     "name": "stdout",
     "text": [
      "<class 'pandas.core.frame.DataFrame'>\n",
      "RangeIndex: 553 entries, 0 to 552\n",
      "Data columns (total 4 columns):\n",
      "Codigo    553 non-null int64\n",
      "Quant     553 non-null int64\n",
      "PUnit     553 non-null float64\n",
      "Valor     553 non-null float64\n",
      "dtypes: float64(2), int64(2)\n",
      "memory usage: 17.4 KB\n"
     ],
     "output_type": "stream"
    }
   ],
   "source": [
    "hood.info()"
   ],
   "metadata": {
    "collapsed": false,
    "pycharm": {
     "name": "#%%\n",
     "is_executing": false
    }
   }
  },
  {
   "cell_type": "markdown",
   "metadata": {
    "id": "tgWxT81ceaPU",
    "colab_type": "text"
   },
   "source": [
    "<br>\n",
    "\n",
    "A criação de novos campos a partir de campos já existentes no conjunto de dados é uma tarefa ao mesmo tempo corriqueira e simples. \n",
    "Para a execução deste procedimento vamos utilizar o método `assign()` da classe `DataFrame` definida na biblioteca `pandas`.\n",
    "\n",
    "Usaremos o conjunto de dados `hood.txt` para ilustrar esta tarefa. \n",
    "Este conjunto de dados pode ser encontrado nas páginas 528 a 538 do livro \n",
    "[**Auditoria**](https://www.amazon.com.br/Auditoria-William-C-Boynton/dp/8522432449) de William C.Boynton, Raymond N. Johnson e Walter G. Kell, Ed. Atlas, 2002.\n",
    "\n",
    "Vamos criar um novo campo na base de dados hood chamado `vlrAudit` que será o produto dos campos `Quant` e `PUnit`.  \n",
    "Depois vamos criar um novo campo (ao qual denominaremos `diff`) com a diferença absoluta entre os campos `Valor` e `vlrAudit` para ver se existe algum erro."
   ]
  },
  {
   "cell_type": "code",
   "metadata": {
    "id": "ifon9LK6iyR2",
    "colab_type": "code",
    "outputId": "3a38cd97-6a7b-42ef-cbaf-20d354f567d7",
    "colab": {
     "base_uri": "https://localhost:8080/",
     "height": 204
    },
    "pycharm": {
     "is_executing": false
    }
   },
   "source": [
    "hood = (hood\n",
    "            .assign(vlrAudit = hood.Quant * hood.PUnit,\n",
    "                    dif = lambda x: abs(x.Valor -  x.vlrAudit)))\n",
    "hood.head()"
   ],
   "execution_count": 4,
   "outputs": [
    {
     "data": {
      "text/plain": "   Codigo  Quant  PUnit   Valor  vlrAudit  dif\n0   10001     13  250.0  3250.0    3250.0  0.0\n1   10002     12  275.0  3300.0    3300.0  0.0\n2   10003     15  270.0  4050.0    4050.0  0.0\n3   10004     11  200.0  2200.0    2200.0  0.0\n4   10005     10  400.0  4000.0    4000.0  0.0",
      "text/html": "<div>\n<style scoped>\n    .dataframe tbody tr th:only-of-type {\n        vertical-align: middle;\n    }\n\n    .dataframe tbody tr th {\n        vertical-align: top;\n    }\n\n    .dataframe thead th {\n        text-align: right;\n    }\n</style>\n<table border=\"1\" class=\"dataframe\">\n  <thead>\n    <tr style=\"text-align: right;\">\n      <th></th>\n      <th>Codigo</th>\n      <th>Quant</th>\n      <th>PUnit</th>\n      <th>Valor</th>\n      <th>vlrAudit</th>\n      <th>dif</th>\n    </tr>\n  </thead>\n  <tbody>\n    <tr>\n      <th>0</th>\n      <td>10001</td>\n      <td>13</td>\n      <td>250.0</td>\n      <td>3250.0</td>\n      <td>3250.0</td>\n      <td>0.0</td>\n    </tr>\n    <tr>\n      <th>1</th>\n      <td>10002</td>\n      <td>12</td>\n      <td>275.0</td>\n      <td>3300.0</td>\n      <td>3300.0</td>\n      <td>0.0</td>\n    </tr>\n    <tr>\n      <th>2</th>\n      <td>10003</td>\n      <td>15</td>\n      <td>270.0</td>\n      <td>4050.0</td>\n      <td>4050.0</td>\n      <td>0.0</td>\n    </tr>\n    <tr>\n      <th>3</th>\n      <td>10004</td>\n      <td>11</td>\n      <td>200.0</td>\n      <td>2200.0</td>\n      <td>2200.0</td>\n      <td>0.0</td>\n    </tr>\n    <tr>\n      <th>4</th>\n      <td>10005</td>\n      <td>10</td>\n      <td>400.0</td>\n      <td>4000.0</td>\n      <td>4000.0</td>\n      <td>0.0</td>\n    </tr>\n  </tbody>\n</table>\n</div>"
     },
     "metadata": {},
     "output_type": "execute_result",
     "execution_count": 4
    }
   ]
  },
  {
   "cell_type": "markdown",
   "metadata": {
    "id": "B_h9UTlaupnA",
    "colab_type": "text"
   },
   "source": [
    "Com um filtro podemos ver se algum valor da coluna `dif` é diferente de zero. \n",
    "\n",
    "> Na realidade, como pequenos erros de arredondamento poderão ocorrer nas operações envolvendo variáveis reais (tipo `float`),\n",
    "> é boa prática verificar se os valores do campo `dif` são superiores (lembre-se que este campo correponde a um valor absoluto e \n",
    "> portanto será sempre positivo) a um determinado valor bem próximo de zero. Neste exemplo usaremos um valor $\\epsilon = 1e-6$.  "
   ]
  },
  {
   "cell_type": "code",
   "metadata": {
    "id": "N7orTpLmp1QC",
    "colab_type": "code",
    "outputId": "16fc715e-387c-491b-9473-0e478c04020b",
    "colab": {
     "base_uri": "https://localhost:8080/",
     "height": 99
    },
    "pycharm": {
     "is_executing": false
    }
   },
   "source": [
    "(hood\n",
    "    .query('dif > 1e-6'))"
   ],
   "execution_count": 5,
   "outputs": [
    {
     "data": {
      "text/plain": "     Codigo  Quant  PUnit     Valor  vlrAudit  dif\n503   20004  10052  17.85  179428.0  179428.2  0.2",
      "text/html": "<div>\n<style scoped>\n    .dataframe tbody tr th:only-of-type {\n        vertical-align: middle;\n    }\n\n    .dataframe tbody tr th {\n        vertical-align: top;\n    }\n\n    .dataframe thead th {\n        text-align: right;\n    }\n</style>\n<table border=\"1\" class=\"dataframe\">\n  <thead>\n    <tr style=\"text-align: right;\">\n      <th></th>\n      <th>Codigo</th>\n      <th>Quant</th>\n      <th>PUnit</th>\n      <th>Valor</th>\n      <th>vlrAudit</th>\n      <th>dif</th>\n    </tr>\n  </thead>\n  <tbody>\n    <tr>\n      <th>503</th>\n      <td>20004</td>\n      <td>10052</td>\n      <td>17.85</td>\n      <td>179428.0</td>\n      <td>179428.2</td>\n      <td>0.2</td>\n    </tr>\n  </tbody>\n</table>\n</div>"
     },
     "metadata": {},
     "output_type": "execute_result",
     "execution_count": 5
    }
   ]
  },
  {
   "cell_type": "markdown",
   "metadata": {
    "id": "OzjF41LOsxmf",
    "colab_type": "text"
   },
   "source": [
    "Para efeitos práticos, pode-se dizer não existir problemas na comparação realizada. \n",
    "Existe uma diferença de 20 centavos na fatura de número 20004 entre o valor faturado e o calculado com base na quantidade vendida e preço unitário do item.\n",
    "\n",
    "Agora vamos criar um novo campo chamado `vlrAcum` contendo o valor acumulado, fatura a fatura, do campo `Valor`."
   ]
  },
  {
   "cell_type": "code",
   "metadata": {
    "id": "B6t-M57-5DsE",
    "colab_type": "code",
    "outputId": "519f846f-30d9-46de-ce0a-1fb8ce4efac7",
    "colab": {
     "base_uri": "https://localhost:8080/",
     "height": 204
    },
    "pycharm": {
     "is_executing": false,
     "name": "#%%\n"
    }
   },
   "source": [
    "hood = (hood\n",
    "            .assign(vlrAcum = hood.Valor.cumsum()))\n",
    "\n",
    "hood.head()"
   ],
   "execution_count": 6,
   "outputs": [
    {
     "data": {
      "text/plain": "   Codigo  Quant  PUnit   Valor  vlrAudit  dif  vlrAcum\n0   10001     13  250.0  3250.0    3250.0  0.0   3250.0\n1   10002     12  275.0  3300.0    3300.0  0.0   6550.0\n2   10003     15  270.0  4050.0    4050.0  0.0  10600.0\n3   10004     11  200.0  2200.0    2200.0  0.0  12800.0\n4   10005     10  400.0  4000.0    4000.0  0.0  16800.0",
      "text/html": "<div>\n<style scoped>\n    .dataframe tbody tr th:only-of-type {\n        vertical-align: middle;\n    }\n\n    .dataframe tbody tr th {\n        vertical-align: top;\n    }\n\n    .dataframe thead th {\n        text-align: right;\n    }\n</style>\n<table border=\"1\" class=\"dataframe\">\n  <thead>\n    <tr style=\"text-align: right;\">\n      <th></th>\n      <th>Codigo</th>\n      <th>Quant</th>\n      <th>PUnit</th>\n      <th>Valor</th>\n      <th>vlrAudit</th>\n      <th>dif</th>\n      <th>vlrAcum</th>\n    </tr>\n  </thead>\n  <tbody>\n    <tr>\n      <th>0</th>\n      <td>10001</td>\n      <td>13</td>\n      <td>250.0</td>\n      <td>3250.0</td>\n      <td>3250.0</td>\n      <td>0.0</td>\n      <td>3250.0</td>\n    </tr>\n    <tr>\n      <th>1</th>\n      <td>10002</td>\n      <td>12</td>\n      <td>275.0</td>\n      <td>3300.0</td>\n      <td>3300.0</td>\n      <td>0.0</td>\n      <td>6550.0</td>\n    </tr>\n    <tr>\n      <th>2</th>\n      <td>10003</td>\n      <td>15</td>\n      <td>270.0</td>\n      <td>4050.0</td>\n      <td>4050.0</td>\n      <td>0.0</td>\n      <td>10600.0</td>\n    </tr>\n    <tr>\n      <th>3</th>\n      <td>10004</td>\n      <td>11</td>\n      <td>200.0</td>\n      <td>2200.0</td>\n      <td>2200.0</td>\n      <td>0.0</td>\n      <td>12800.0</td>\n    </tr>\n    <tr>\n      <th>4</th>\n      <td>10005</td>\n      <td>10</td>\n      <td>400.0</td>\n      <td>4000.0</td>\n      <td>4000.0</td>\n      <td>0.0</td>\n      <td>16800.0</td>\n    </tr>\n  </tbody>\n</table>\n</div>"
     },
     "metadata": {},
     "output_type": "execute_result",
     "execution_count": 6
    }
   ]
  },
  {
   "cell_type": "markdown",
   "metadata": {
    "id": "OOWDHSon5qCq",
    "colab_type": "text"
   },
   "source": [
    "Existem diversas formas de se eliminar colunas em um data frame. \n",
    "Aqui, iremos apresentar 2 possibilidades: usando a palavra chave `del` do *Python* ou por meio do método `drop` da calsse `DataFrame` da biblioteca *pandas*.\n",
    "\n",
    "A exclusão usando `del` somente pode ser feita utilizando-se a notação com colchetes para fazer referência à coluna a ser excluída:\n",
    "\n",
    "* Isso funciona: `del df['nome_coluna']`\n",
    "* Isso não funciona: `del df.nome_coluna`\n",
    "\n",
    "> **Importante:** ao utilizarmos `del`, ao contrário do comportamento padrão no R, não será retornada uma cópia do `DataFrame` sem a coluna indicada para exclusão.\n",
    "> A coluna será excluída de forma direta (*inplace*) no próprio `DataFrame` original.\n",
    "\n",
    "Exemplo: suponha que se queira excluir a variável `dif`. Isso pode ser feito da seguinte forma:"
   ]
  },
  {
   "cell_type": "code",
   "metadata": {
    "id": "II0QU-bj5_vv",
    "colab_type": "code",
    "outputId": "c6bb75e5-e031-48a0-b67c-0a668434b487",
    "colab": {
     "base_uri": "https://localhost:8080/",
     "height": 204
    },
    "pycharm": {
     "is_executing": false,
     "name": "#%%\n"
    }
   },
   "source": [
    "del hood['dif']\n",
    "hood.head()"
   ],
   "execution_count": 7,
   "outputs": [
    {
     "data": {
      "text/plain": "   Codigo  Quant  PUnit   Valor  vlrAudit  vlrAcum\n0   10001     13  250.0  3250.0    3250.0   3250.0\n1   10002     12  275.0  3300.0    3300.0   6550.0\n2   10003     15  270.0  4050.0    4050.0  10600.0\n3   10004     11  200.0  2200.0    2200.0  12800.0\n4   10005     10  400.0  4000.0    4000.0  16800.0",
      "text/html": "<div>\n<style scoped>\n    .dataframe tbody tr th:only-of-type {\n        vertical-align: middle;\n    }\n\n    .dataframe tbody tr th {\n        vertical-align: top;\n    }\n\n    .dataframe thead th {\n        text-align: right;\n    }\n</style>\n<table border=\"1\" class=\"dataframe\">\n  <thead>\n    <tr style=\"text-align: right;\">\n      <th></th>\n      <th>Codigo</th>\n      <th>Quant</th>\n      <th>PUnit</th>\n      <th>Valor</th>\n      <th>vlrAudit</th>\n      <th>vlrAcum</th>\n    </tr>\n  </thead>\n  <tbody>\n    <tr>\n      <th>0</th>\n      <td>10001</td>\n      <td>13</td>\n      <td>250.0</td>\n      <td>3250.0</td>\n      <td>3250.0</td>\n      <td>3250.0</td>\n    </tr>\n    <tr>\n      <th>1</th>\n      <td>10002</td>\n      <td>12</td>\n      <td>275.0</td>\n      <td>3300.0</td>\n      <td>3300.0</td>\n      <td>6550.0</td>\n    </tr>\n    <tr>\n      <th>2</th>\n      <td>10003</td>\n      <td>15</td>\n      <td>270.0</td>\n      <td>4050.0</td>\n      <td>4050.0</td>\n      <td>10600.0</td>\n    </tr>\n    <tr>\n      <th>3</th>\n      <td>10004</td>\n      <td>11</td>\n      <td>200.0</td>\n      <td>2200.0</td>\n      <td>2200.0</td>\n      <td>12800.0</td>\n    </tr>\n    <tr>\n      <th>4</th>\n      <td>10005</td>\n      <td>10</td>\n      <td>400.0</td>\n      <td>4000.0</td>\n      <td>4000.0</td>\n      <td>16800.0</td>\n    </tr>\n  </tbody>\n</table>\n</div>"
     },
     "metadata": {},
     "output_type": "execute_result",
     "execution_count": 7
    }
   ]
  },
  {
   "cell_type": "markdown",
   "metadata": {
    "id": "X_uhGJic6VeN",
    "colab_type": "text"
   },
   "source": [
    "Conforme adiantamos, a exclusão de variáveis fazendo-se referência às mesmas pode ser feita utilizano-se o método \n",
    "`drop()` da classe `DataFrame` da biblioteca *pandas*.\n",
    "\n",
    "> **Observações**:\n",
    ">\n",
    "> 1 - o comportamento padrão do método `drop`, assim como no R, é a realização das exclusões numa cópia do `DataFrame`\n",
    "> original, a qual então é retornada. É possível realizar as exclusões de forma direta ao atribuirmos o valor\n",
    "> `True` ao parâmetro `inplace` na chamada do método.\n",
    ">\n",
    "> 2 - o método `drop` pode ser utilizado tanto para excluir linhas (seu comportamento padrão) ou colunas.\n",
    "> Para excluirmos colunas deveremos chamar o método `drop` com a lista das colunas a serem excluídas e também\n",
    "> atribuirmos ao parâmetro `axis` o valor 1.\n",
    "> Uma forma alternativa seria simplesmente chamar o método `drop` atribuindo-se ao parâmetro `columns` a lista\n",
    "> com o nome das colunas a serem excluidas.\n",
    "\n",
    "Exemplo: caso se queira excluir as variáveis `vlrAudit` e `vlrAcum` podemos usar o seguinte comando:"
   ]
  },
  {
   "cell_type": "code",
   "metadata": {
    "id": "aoyxlbQw621v",
    "colab_type": "code",
    "outputId": "808cfa31-1bd6-4073-9a6d-a0b2cf7db5cf",
    "colab": {
     "base_uri": "https://localhost:8080/",
     "height": 204
    },
    "pycharm": {
     "is_executing": false,
     "name": "#%%\n"
    }
   },
   "source": [
    "# Forma tradicional:\n",
    "hood = (hood # esta atribuição é necessaria dado que o método drop irá atuar sobre um cópia de hood e não sobre o DataFrame original            \n",
    "            .drop(['vlrAudit', 'vlrAcum'], axis=1))\n",
    "\n",
    "# Abaixo uma forma alternativa:\n",
    "# hood = (hood # esta atribuição é necessaria dado que o método drop irá atuar sobre um cópia de hood e não sobre o DataFrame original            \n",
    "#             .drop(columns = ['vlrAudit', 'vlrAcum']))\n",
    "\n",
    "# Exibe as 5 linhas iniciais de hood\n",
    "hood.head()"
   ],
   "execution_count": 8,
   "outputs": [
    {
     "data": {
      "text/plain": "   Codigo  Quant  PUnit   Valor\n0   10001     13  250.0  3250.0\n1   10002     12  275.0  3300.0\n2   10003     15  270.0  4050.0\n3   10004     11  200.0  2200.0\n4   10005     10  400.0  4000.0",
      "text/html": "<div>\n<style scoped>\n    .dataframe tbody tr th:only-of-type {\n        vertical-align: middle;\n    }\n\n    .dataframe tbody tr th {\n        vertical-align: top;\n    }\n\n    .dataframe thead th {\n        text-align: right;\n    }\n</style>\n<table border=\"1\" class=\"dataframe\">\n  <thead>\n    <tr style=\"text-align: right;\">\n      <th></th>\n      <th>Codigo</th>\n      <th>Quant</th>\n      <th>PUnit</th>\n      <th>Valor</th>\n    </tr>\n  </thead>\n  <tbody>\n    <tr>\n      <th>0</th>\n      <td>10001</td>\n      <td>13</td>\n      <td>250.0</td>\n      <td>3250.0</td>\n    </tr>\n    <tr>\n      <th>1</th>\n      <td>10002</td>\n      <td>12</td>\n      <td>275.0</td>\n      <td>3300.0</td>\n    </tr>\n    <tr>\n      <th>2</th>\n      <td>10003</td>\n      <td>15</td>\n      <td>270.0</td>\n      <td>4050.0</td>\n    </tr>\n    <tr>\n      <th>3</th>\n      <td>10004</td>\n      <td>11</td>\n      <td>200.0</td>\n      <td>2200.0</td>\n    </tr>\n    <tr>\n      <th>4</th>\n      <td>10005</td>\n      <td>10</td>\n      <td>400.0</td>\n      <td>4000.0</td>\n    </tr>\n  </tbody>\n</table>\n</div>"
     },
     "metadata": {},
     "output_type": "execute_result",
     "execution_count": 8
    }
   ]
  },
  {
   "cell_type": "markdown",
   "metadata": {
    "id": "2mm-yqXtnCgm",
    "colab_type": "text"
   },
   "source": [
    "<br>\n",
    "\n",
    "---\n",
    "\n",
    "![](./imagens/sua_vez_fundo_transp.png) **Agora é com você...**\n",
    "\n",
    "---"
   ]
  },
  {
   "cell_type": "markdown",
   "metadata": {
    "id": "XGO4TOgIpVoR",
    "colab_type": "text"
   },
   "source": [
    "<br>\n",
    "\n",
    "**1** - Importe o conjunto de dados `RH.csv`. Calcule uma nova coluna que indique quantos por cento o valor de bônus representa do salário."
   ]
  },
  {
   "cell_type": "code",
   "metadata": {
    "id": "9AL8myR1pfGb",
    "colab_type": "code",
    "colab": {},
    "pycharm": {
     "is_executing": false
    }
   },
   "source": [],
   "execution_count": 8,
   "outputs": []
  },
  {
   "cell_type": "markdown",
   "metadata": {
    "id": "HH1cuXqIqa68",
    "colab_type": "text"
   },
   "source": [
    "<br>\n",
    "\n",
    "**2** - XXX"
   ]
  },
  {
   "cell_type": "code",
   "metadata": {
    "id": "dwfOodgur_mQ",
    "colab_type": "code",
    "colab": {},
    "pycharm": {
     "is_executing": false
    }
   },
   "source": [],
   "execution_count": 8,
   "outputs": []
  },
  {
   "cell_type": "markdown",
   "metadata": {
    "id": "aQQKphcdV9dP",
    "colab_type": "text"
   },
   "source": [
    "<br>\n",
    "\n",
    "**3** - XXX"
   ]
  },
  {
   "cell_type": "code",
   "metadata": {
    "id": "auWf2l3aW-VT",
    "colab_type": "code",
    "colab": {},
    "pycharm": {
     "is_executing": false
    }
   },
   "source": [],
   "execution_count": 8,
   "outputs": []
  },
  {
   "cell_type": "markdown",
   "metadata": {
    "id": "8J7kIsPpYufh",
    "colab_type": "text",
    "pycharm": {
     "name": "#%% md\n"
    }
   },
   "source": [
    "<br>\n",
    "\n",
    "**4** XXX\n"
   ]
  }
 ]
}