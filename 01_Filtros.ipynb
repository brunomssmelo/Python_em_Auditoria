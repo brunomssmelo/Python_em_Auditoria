{
 "cells": [
  {
   "cell_type": "markdown",
   "metadata": {
    "collapsed": true,
    "pycharm": {
     "name": "#%% md\n"
    }
   },
   "source": [
    "[![](https://colab.research.google.com/assets/colab-badge.svg)](https://colab.research.google.com/github/brunomssmelo/Python_em_Auditoria/blob/master/01_Filtros.ipynb)\n",
    "\n",
    "# **Análise de Dados aplicada à Auditoria com _Phyton_**\n",
    "\n",
    "## **Técnicas de Auditoria Assistidas por Computador - TAACs**\n",
    "\n",
    "### _Aplicação de Filtros_"
   ]
  },
  {
   "cell_type": "markdown",
   "metadata": {
    "pycharm": {
     "name": "#%% md\n"
    }
   },
   "source": [
    "</br> <h4> <img src=\"./imagens/aviso.png\" alt=\"aviso\" style=\"width:20px;\" align=\"left\"/> &nbsp;&nbsp; Este documento é uma adaptação para Python do <a href=\"https://colab.research.google.com/drive/1S1bRA4D5NTRNNFunnKpbQ0r_hS4NJt04?ts=5dcd9a23\">notebook</a> originalmente codificado em R. </h4></br>"
   ]
  },
  {
   "cell_type": "markdown",
   "source": [
    "Ao se examinar um conjunto de dados é frequente a situação em que o auditor tem interesse em selecionar para exame apenas um subconjunto do mesmo, ou seja, selecionar os registros que atendam a determinados critérios por ele definidos.\n",
    "\n",
    "Assim o auditor pode desejar selecionar para análise apenas os registros onde o valor das faturas, por exemplo, sejam superiores a determinado valor, ou faturas emitidas em um determinado período ou ainda registros relativos a funcionários de um determinado departamento de uma empresa.\n",
    "\n",
    "Para a aplicação de filtros aos dados pode-se utilizar o método [`query()`](https://pandas.pydata.org/pandas-docs/stable/reference/api/pandas.DataFrame.query.html) de um objeto da classe [`DataFrame`](https://pandas.pydata.org/pandas-docs/stable/reference/api/pandas.DataFrame.html) definida na biblioteca [pandas](https://pandas.pydata.org/pandas-docs/stable/index.html)."
   ],
   "metadata": {
    "collapsed": false,
    "pycharm": {
     "name": "#%% md\n"
    }
   }
  },
  {
   "cell_type": "markdown",
   "metadata": {},
   "source": [
    "#### _Exemplo_\n",
    "\n",
    "Para ilustrar o uso de filtros usaremos o conjunto de dados `RH.csv` que contém informação relativa aos recursos humanos de uma empresa.\n"
   ]
  },
  {
   "cell_type": "code",
   "execution_count": 21,
   "metadata": {
    "pycharm": {
     "is_executing": false,
     "name": "#%%\n"
    }
   },
   "outputs": [
    {
     "data": {
      "text/plain": "        Sexo Estado Civil  Anos de estudo          Formação  Tempo de empresa  \\\n0  Masculino       Casado            14.0  Sócio-econômicas              19.0   \n1  Masculino        Viúvo            19.0  Sócio-econômicas              31.0   \n2   Feminino       Casado            18.0  Sócio-econômicas              28.0   \n3   Feminino       Casado            16.0  Sócio-econômicas              20.0   \n4  Masculino     Solteiro            15.0  Sócio-econômicas              15.0   \n\n          Unidade Departamento       Cargo  Salário  Bônus  \n0        Curitiba     Produção  Assistente    16.67  28.02  \n1       São Paulo       Vendas  Assistente    29.13  41.24  \n2  Rio de Janeiro   Financeiro       Assi     21.80  16.88  \n3  Rio de Janeiro       Vendas  Assistente    22.61  13.50  \n4        Curitiba       Vendas    Auxiliar    16.67   8.44  ",
      "text/html": "<div>\n<style scoped>\n    .dataframe tbody tr th:only-of-type {\n        vertical-align: middle;\n    }\n\n    .dataframe tbody tr th {\n        vertical-align: top;\n    }\n\n    .dataframe thead th {\n        text-align: right;\n    }\n</style>\n<table border=\"1\" class=\"dataframe\">\n  <thead>\n    <tr style=\"text-align: right;\">\n      <th></th>\n      <th>Sexo</th>\n      <th>Estado Civil</th>\n      <th>Anos de estudo</th>\n      <th>Formação</th>\n      <th>Tempo de empresa</th>\n      <th>Unidade</th>\n      <th>Departamento</th>\n      <th>Cargo</th>\n      <th>Salário</th>\n      <th>Bônus</th>\n    </tr>\n  </thead>\n  <tbody>\n    <tr>\n      <th>0</th>\n      <td>Masculino</td>\n      <td>Casado</td>\n      <td>14.0</td>\n      <td>Sócio-econômicas</td>\n      <td>19.0</td>\n      <td>Curitiba</td>\n      <td>Produção</td>\n      <td>Assistente</td>\n      <td>16.67</td>\n      <td>28.02</td>\n    </tr>\n    <tr>\n      <th>1</th>\n      <td>Masculino</td>\n      <td>Viúvo</td>\n      <td>19.0</td>\n      <td>Sócio-econômicas</td>\n      <td>31.0</td>\n      <td>São Paulo</td>\n      <td>Vendas</td>\n      <td>Assistente</td>\n      <td>29.13</td>\n      <td>41.24</td>\n    </tr>\n    <tr>\n      <th>2</th>\n      <td>Feminino</td>\n      <td>Casado</td>\n      <td>18.0</td>\n      <td>Sócio-econômicas</td>\n      <td>28.0</td>\n      <td>Rio de Janeiro</td>\n      <td>Financeiro</td>\n      <td>Assi</td>\n      <td>21.80</td>\n      <td>16.88</td>\n    </tr>\n    <tr>\n      <th>3</th>\n      <td>Feminino</td>\n      <td>Casado</td>\n      <td>16.0</td>\n      <td>Sócio-econômicas</td>\n      <td>20.0</td>\n      <td>Rio de Janeiro</td>\n      <td>Vendas</td>\n      <td>Assistente</td>\n      <td>22.61</td>\n      <td>13.50</td>\n    </tr>\n    <tr>\n      <th>4</th>\n      <td>Masculino</td>\n      <td>Solteiro</td>\n      <td>15.0</td>\n      <td>Sócio-econômicas</td>\n      <td>15.0</td>\n      <td>Curitiba</td>\n      <td>Vendas</td>\n      <td>Auxiliar</td>\n      <td>16.67</td>\n      <td>8.44</td>\n    </tr>\n  </tbody>\n</table>\n</div>"
     },
     "metadata": {},
     "output_type": "execute_result",
     "execution_count": 21
    }
   ],
   "source": [
    "# Antes de prosseguirmos, deveremos carregar aa bibliotecas necessárias:\n",
    "import numpy as np  #numpy\n",
    "import pandas as pd #pandas\n",
    "\n",
    "# A importação dos dados pode ser realizada com o método read_csv():\n",
    "rh = pd.read_csv('./dados/RH.csv',  encoding='latin1', sep=';', decimal=',', na_values=' ')\n",
    "\n",
    "# Podemos visualizar os registros iniciais dos dados importados com o método head():\n",
    "rh.head()"
   ]
  },
  {
   "cell_type": "markdown",
   "metadata": {},
   "source": [
    "Podemos obter um \"quadro de informações gerais\" dos dados importados para o DataFrame rh por meio de uma chamada ao método `info()`, que pode ser encarado como uma espécie de equivalente em pandas para a função `glimpse()` do pacote tibble do R:  "
   ]
  },
  {
   "cell_type": "code",
   "execution_count": 22,
   "metadata": {
    "pycharm": {
     "is_executing": false,
     "name": "#%%\n"
    }
   },
   "outputs": [
    {
     "name": "stdout",
     "text": [
      "<class 'pandas.core.frame.DataFrame'>\n",
      "RangeIndex: 5000 entries, 0 to 4999\n",
      "Data columns (total 10 columns):\n",
      "Sexo                4998 non-null object\n",
      "Estado Civil        4992 non-null object\n",
      "Anos de estudo      4991 non-null float64\n",
      "Formação            4990 non-null object\n",
      "Tempo de empresa    4995 non-null float64\n",
      "Unidade             4995 non-null object\n",
      "Departamento        4990 non-null object\n",
      "Cargo               4992 non-null object\n",
      "Salário             4992 non-null float64\n",
      "Bônus               4995 non-null float64\n",
      "dtypes: float64(4), object(6)\n",
      "memory usage: 390.8+ KB\n"
     ],
     "output_type": "stream"
    }
   ],
   "source": [
    "rh.info()\n"
   ]
  },
  {
   "cell_type": "markdown",
   "metadata": {
    "pycharm": {
     "name": "#%% md\n"
    }
   },
   "source": [
    "Examinando as saídas acima podemos ver que a importação dos dados ocorreu sem problemas.\n",
    "\n",
    "Supondo que se deseje selecionar apenas os registros relativos a funcionários do sexo feminino, pode-se fazer da seguinte forma:\n",
    "\n",
    "1 - Preliminarmente deveremos examinar o conjunto de valores distintos que a variável `Sexo` assume. Isto pode ser realizado por meio do método `unique()` da coluna `Sexo`:\n",
    " "
   ]
  },
  {
   "cell_type": "code",
   "execution_count": 23,
   "metadata": {
    "pycharm": {
     "is_executing": false,
     "name": "#%% \n"
    }
   },
   "outputs": [
    {
     "data": {
      "text/plain": "array(['Masculino', 'Feminino', 'Femi ', 'Masc ', nan], dtype=object)"
     },
     "metadata": {},
     "output_type": "execute_result",
     "execution_count": 23
    }
   ],
   "source": [
    "rh.Sexo.unique()"
   ]
  },
  {
   "cell_type": "markdown",
   "metadata": {
    "pycharm": {
     "name": "#%% md\n"
    }
   },
   "source": [
    "O código acima nos mostra que a variável Sexo assume valores diferentes para o mesmo sexo. O sexo masculino assume os valores Masculino e Masc. Situação semelhante ocorre com os valores relativos ao sexo feminino.\n",
    "\n",
    "2 - Assim, para realizarmos o filtro de forma correta precisaremos levar este fato em consideração (em outro momento veremos como corrigir os valores de uma variável):"
   ]
  },
  {
   "cell_type": "code",
   "execution_count": 24,
   "metadata": {
    "pycharm": {
     "is_executing": false,
     "name": "#%%\n"
    }
   },
   "outputs": [
    {
     "data": {
      "text/plain": "        Sexo Estado Civil  Anos de estudo          Formação  Tempo de empresa  \\\n2   Feminino       Casado            18.0  Sócio-econômicas              28.0   \n3   Feminino       Casado            16.0  Sócio-econômicas              20.0   \n9   Feminino       Casado            12.0           Humanas              16.0   \n10  Feminino     Solteiro            13.0           Humanas              20.0   \n12  Feminino       Casado            13.0            Exatas              23.0   \n\n           Unidade Departamento       Cargo  Salário  Bônus  \n2   Rio de Janeiro   Financeiro       Assi     21.80  16.88  \n3   Rio de Janeiro       Vendas  Assistente    22.61  13.50  \n9   Rio de Janeiro     Produção  Assistente     5.78  16.68  \n10   Florianópolis     Produção    Auxiliar     1.08  11.72  \n12  Rio de Janeiro      Pessoal  Assistente     5.19  16.48  ",
      "text/html": "<div>\n<style scoped>\n    .dataframe tbody tr th:only-of-type {\n        vertical-align: middle;\n    }\n\n    .dataframe tbody tr th {\n        vertical-align: top;\n    }\n\n    .dataframe thead th {\n        text-align: right;\n    }\n</style>\n<table border=\"1\" class=\"dataframe\">\n  <thead>\n    <tr style=\"text-align: right;\">\n      <th></th>\n      <th>Sexo</th>\n      <th>Estado Civil</th>\n      <th>Anos de estudo</th>\n      <th>Formação</th>\n      <th>Tempo de empresa</th>\n      <th>Unidade</th>\n      <th>Departamento</th>\n      <th>Cargo</th>\n      <th>Salário</th>\n      <th>Bônus</th>\n    </tr>\n  </thead>\n  <tbody>\n    <tr>\n      <th>2</th>\n      <td>Feminino</td>\n      <td>Casado</td>\n      <td>18.0</td>\n      <td>Sócio-econômicas</td>\n      <td>28.0</td>\n      <td>Rio de Janeiro</td>\n      <td>Financeiro</td>\n      <td>Assi</td>\n      <td>21.80</td>\n      <td>16.88</td>\n    </tr>\n    <tr>\n      <th>3</th>\n      <td>Feminino</td>\n      <td>Casado</td>\n      <td>16.0</td>\n      <td>Sócio-econômicas</td>\n      <td>20.0</td>\n      <td>Rio de Janeiro</td>\n      <td>Vendas</td>\n      <td>Assistente</td>\n      <td>22.61</td>\n      <td>13.50</td>\n    </tr>\n    <tr>\n      <th>9</th>\n      <td>Feminino</td>\n      <td>Casado</td>\n      <td>12.0</td>\n      <td>Humanas</td>\n      <td>16.0</td>\n      <td>Rio de Janeiro</td>\n      <td>Produção</td>\n      <td>Assistente</td>\n      <td>5.78</td>\n      <td>16.68</td>\n    </tr>\n    <tr>\n      <th>10</th>\n      <td>Feminino</td>\n      <td>Solteiro</td>\n      <td>13.0</td>\n      <td>Humanas</td>\n      <td>20.0</td>\n      <td>Florianópolis</td>\n      <td>Produção</td>\n      <td>Auxiliar</td>\n      <td>1.08</td>\n      <td>11.72</td>\n    </tr>\n    <tr>\n      <th>12</th>\n      <td>Feminino</td>\n      <td>Casado</td>\n      <td>13.0</td>\n      <td>Exatas</td>\n      <td>23.0</td>\n      <td>Rio de Janeiro</td>\n      <td>Pessoal</td>\n      <td>Assistente</td>\n      <td>5.19</td>\n      <td>16.48</td>\n    </tr>\n  </tbody>\n</table>\n</div>"
     },
     "metadata": {},
     "output_type": "execute_result",
     "execution_count": 24
    }
   ],
   "source": [
    "rh.query('Sexo in [\"Feminino\", \"Femi\"]').head()"
   ]
  },
  {
   "cell_type": "markdown",
   "metadata": {},
   "source": [
    "E se quiséssemos filtrar os registros relativos a funcionários do sexo masculino, da unidade do Rio de Janeiro, dos departamentos financeiro e de vendas e que possuam salário superior a R$70,00?\n",
    "\n",
    "(**Nota:** para manter o foco na execução do filtro vamos desconsiderar erros nos valores das variáveis a exemplo do que vimos para a variável `Sexo`)"
   ]
  },
  {
   "cell_type": "code",
   "execution_count": 25,
   "metadata": {
    "pycharm": {
     "is_executing": false,
     "name": "#%%\n"
    }
   },
   "outputs": [
    {
     "data": {
      "text/plain": "           Sexo Estado Civil  Anos de estudo          Formação  \\\n367   Masculino        Viúvo            22.0  Sócio-econômicas   \n387   Masculino       Casado            23.0  Sócio-econômicas   \n397   Masculino       Casado            19.0  Sócio-econômicas   \n408   Masculino       Casado            28.0  Sócio-econômicas   \n607   Masculino       Casado            22.0  Sócio-econômicas   \n760   Masculino       Casado            19.0  Sócio-econômicas   \n798   Masculino       Casado            21.0  Sócio-econômicas   \n1316  Masculino       Casado            23.0  Sócio-econômicas   \n1435  Masculino       Casado            22.0  Sócio-econômicas   \n1567  Masculino       Casado            22.0  Sócio-econômicas   \n\n      Tempo de empresa         Unidade Departamento            Cargo  Salário  \\\n367               50.0  Rio de Janeiro       Vendas  Vice-Presidente    77.47   \n387               42.0  Rio de Janeiro       Vendas          Gerente    88.93   \n397               45.0  Rio de Janeiro       Vendas  Vice-Presidente    88.93   \n408               37.0  Rio de Janeiro       Vendas  Vice-Presidente   141.42   \n607               36.0  Rio de Janeiro       Vendas          Gerente    92.97   \n760               41.0  Rio de Janeiro       Vendas          Gerente    75.20   \n798               39.0  Rio de Janeiro       Vendas          Gerente    81.65   \n1316              39.0  Rio de Janeiro       Vendas  Vice-Presidente    79.31   \n1435              37.0  Rio de Janeiro       Vendas  Vice-Presidente    99.77   \n1567              35.0  Rio de Janeiro       Vendas          Gerente    75.20   \n\n       Bônus  \n367    49.48  \n387   148.60  \n397   110.26  \n408   341.18  \n607   127.32  \n760    84.36  \n798   103.02  \n1316  192.14  \n1435  176.88  \n1567   90.74  ",
      "text/html": "<div>\n<style scoped>\n    .dataframe tbody tr th:only-of-type {\n        vertical-align: middle;\n    }\n\n    .dataframe tbody tr th {\n        vertical-align: top;\n    }\n\n    .dataframe thead th {\n        text-align: right;\n    }\n</style>\n<table border=\"1\" class=\"dataframe\">\n  <thead>\n    <tr style=\"text-align: right;\">\n      <th></th>\n      <th>Sexo</th>\n      <th>Estado Civil</th>\n      <th>Anos de estudo</th>\n      <th>Formação</th>\n      <th>Tempo de empresa</th>\n      <th>Unidade</th>\n      <th>Departamento</th>\n      <th>Cargo</th>\n      <th>Salário</th>\n      <th>Bônus</th>\n    </tr>\n  </thead>\n  <tbody>\n    <tr>\n      <th>367</th>\n      <td>Masculino</td>\n      <td>Viúvo</td>\n      <td>22.0</td>\n      <td>Sócio-econômicas</td>\n      <td>50.0</td>\n      <td>Rio de Janeiro</td>\n      <td>Vendas</td>\n      <td>Vice-Presidente</td>\n      <td>77.47</td>\n      <td>49.48</td>\n    </tr>\n    <tr>\n      <th>387</th>\n      <td>Masculino</td>\n      <td>Casado</td>\n      <td>23.0</td>\n      <td>Sócio-econômicas</td>\n      <td>42.0</td>\n      <td>Rio de Janeiro</td>\n      <td>Vendas</td>\n      <td>Gerente</td>\n      <td>88.93</td>\n      <td>148.60</td>\n    </tr>\n    <tr>\n      <th>397</th>\n      <td>Masculino</td>\n      <td>Casado</td>\n      <td>19.0</td>\n      <td>Sócio-econômicas</td>\n      <td>45.0</td>\n      <td>Rio de Janeiro</td>\n      <td>Vendas</td>\n      <td>Vice-Presidente</td>\n      <td>88.93</td>\n      <td>110.26</td>\n    </tr>\n    <tr>\n      <th>408</th>\n      <td>Masculino</td>\n      <td>Casado</td>\n      <td>28.0</td>\n      <td>Sócio-econômicas</td>\n      <td>37.0</td>\n      <td>Rio de Janeiro</td>\n      <td>Vendas</td>\n      <td>Vice-Presidente</td>\n      <td>141.42</td>\n      <td>341.18</td>\n    </tr>\n    <tr>\n      <th>607</th>\n      <td>Masculino</td>\n      <td>Casado</td>\n      <td>22.0</td>\n      <td>Sócio-econômicas</td>\n      <td>36.0</td>\n      <td>Rio de Janeiro</td>\n      <td>Vendas</td>\n      <td>Gerente</td>\n      <td>92.97</td>\n      <td>127.32</td>\n    </tr>\n    <tr>\n      <th>760</th>\n      <td>Masculino</td>\n      <td>Casado</td>\n      <td>19.0</td>\n      <td>Sócio-econômicas</td>\n      <td>41.0</td>\n      <td>Rio de Janeiro</td>\n      <td>Vendas</td>\n      <td>Gerente</td>\n      <td>75.20</td>\n      <td>84.36</td>\n    </tr>\n    <tr>\n      <th>798</th>\n      <td>Masculino</td>\n      <td>Casado</td>\n      <td>21.0</td>\n      <td>Sócio-econômicas</td>\n      <td>39.0</td>\n      <td>Rio de Janeiro</td>\n      <td>Vendas</td>\n      <td>Gerente</td>\n      <td>81.65</td>\n      <td>103.02</td>\n    </tr>\n    <tr>\n      <th>1316</th>\n      <td>Masculino</td>\n      <td>Casado</td>\n      <td>23.0</td>\n      <td>Sócio-econômicas</td>\n      <td>39.0</td>\n      <td>Rio de Janeiro</td>\n      <td>Vendas</td>\n      <td>Vice-Presidente</td>\n      <td>79.31</td>\n      <td>192.14</td>\n    </tr>\n    <tr>\n      <th>1435</th>\n      <td>Masculino</td>\n      <td>Casado</td>\n      <td>22.0</td>\n      <td>Sócio-econômicas</td>\n      <td>37.0</td>\n      <td>Rio de Janeiro</td>\n      <td>Vendas</td>\n      <td>Vice-Presidente</td>\n      <td>99.77</td>\n      <td>176.88</td>\n    </tr>\n    <tr>\n      <th>1567</th>\n      <td>Masculino</td>\n      <td>Casado</td>\n      <td>22.0</td>\n      <td>Sócio-econômicas</td>\n      <td>35.0</td>\n      <td>Rio de Janeiro</td>\n      <td>Vendas</td>\n      <td>Gerente</td>\n      <td>75.20</td>\n      <td>90.74</td>\n    </tr>\n  </tbody>\n</table>\n</div>"
     },
     "metadata": {},
     "output_type": "execute_result",
     "execution_count": 25
    }
   ],
   "source": [
    "rh.query('Sexo == \"Masculino\" and Departamento in [\"Financeiro\", \"Vendas\"] and Salário > 70').head(10)\n"
   ]
  }
 ],
 "metadata": {
  "kernelspec": {
   "display_name": "Python 3",
   "language": "python",
   "name": "python3"
  },
  "language_info": {
   "codemirror_mode": {
    "name": "ipython",
    "version": 3
   },
   "file_extension": ".py",
   "mimetype": "text/x-python",
   "name": "python",
   "nbconvert_exporter": "python",
   "pygments_lexer": "ipython3",
   "version": "3.7.5"
  },
  "pycharm": {
   "stem_cell": {
    "cell_type": "raw",
    "source": [],
    "metadata": {
     "collapsed": false
    }
   }
  }
 },
 "nbformat": 4,
 "nbformat_minor": 1
}