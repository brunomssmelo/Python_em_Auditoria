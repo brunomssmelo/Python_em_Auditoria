{
 "nbformat": 4,
 "nbformat_minor": 0,
 "metadata": {
  "kernelspec": {
   "name": "python3",
   "language": "python",
   "display_name": "Python 3"
  },
  "language_info": {
   "codemirror_mode": "r",
   "file_extension": ".r",
   "mimetype": "text/x-r-source",
   "name": "R",
   "pygments_lexer": "r",
   "version": "3.3.1"
  },
  "colab": {
   "name": "04_Sumarizacao.ipynb",
   "provenance": [],
   "collapsed_sections": []
  },
  "pycharm": {
   "stem_cell": {
    "cell_type": "raw",
    "source": [],
    "metadata": {
     "collapsed": false
    }
   }
  }
 },
 "cells": [
  {
   "cell_type": "markdown",
   "metadata": {
    "id": "C_98iTtYdv0l",
    "colab_type": "text"
   },
   "source": [
    "[![](https://colab.research.google.com/assets/colab-badge.svg)](https://colab.research.google.com/github/brunomssmelo/Python_em_Auditoria/blob/master/04_Sumarizacao.ipynb)\n",
    "\n",
    "# **Análise de Dados aplicada à Auditoria com _Python_**\n",
    "\n",
    "## **Técnicas de Auditoria Assistidas por Computador - TAACs**\n",
    "### _Sumarização_"
   ]
  },
  {
   "cell_type": "markdown",
   "metadata": {
    "id": "fpsaKU0ey6Rz",
    "colab_type": "code",
    "outputId": "ad221313-3081-4c34-db05-12ea5e954d27",
    "colab": {
     "base_uri": "https://localhost:8080/",
     "height": 136
    },
    "pycharm": {
     "name": "#%% md\n"
    }
   },
   "source": [
    "> Este documento é uma adaptação para Python do <a href=\"https://colab.research.google.com/drive/1EXDeAPLJTuRqShA0YVUMd3ytDLNa5m8M\">notebook</a> originalmente codificado em R."
   ]
  },
  {
   "cell_type": "code",
   "execution_count": 1,
   "outputs": [],
   "source": [
    "# Antes de prosseguirmos, deveremos carregar as bibliotecas necessárias:\n",
    "import pandas as pd #pandas\n",
    "import numpy as np #numpy"
   ],
   "metadata": {
    "collapsed": false,
    "pycharm": {
     "name": "#%%\n",
     "is_executing": false
    }
   }
  },
  {
   "cell_type": "code",
   "metadata": {
    "id": "ZNl-hDxdwn99",
    "colab_type": "code",
    "outputId": "019293fb-a632-4223-f63b-621b425559ed",
    "colab": {
     "base_uri": "https://localhost:8080/",
     "height": 408
    },
    "pycharm": {
     "is_executing": false
    }
   },
   "source": [
    "# A importação dos dados pode ser realizada com o método read_csv():\n",
    "faturas = pd.read_csv('./dados/Invoices.csv',  encoding='latin1', sep=';', decimal=',', na_values=' ')\n",
    "\n",
    "# Podemos visualizar os registros iniciais dos dados importados com o método head():\n",
    "faturas.head()"
   ],
   "execution_count": 2,
   "outputs": [
    {
     "data": {
      "text/plain": "         Date  InvoiceNo  CustomerNo  SalesPerson  ProductNo  UnitPrice  \\\n0  09/07/2003      20000       10220            8          8        9.2   \n1  21/08/2003      20001       10491            4         48       14.0   \n2  27/08/2003      20002       10704            3         43       15.0   \n3  28/05/2003      20003       10430            5         54       24.0   \n4  06/12/2003      20004       10841           17         11       15.0   \n\n   Quantity  Amount  \n0        41   377.2  \n1        30   420.0  \n2        25   375.0  \n3        22   528.0  \n4        21   315.0  ",
      "text/html": "<div>\n<style scoped>\n    .dataframe tbody tr th:only-of-type {\n        vertical-align: middle;\n    }\n\n    .dataframe tbody tr th {\n        vertical-align: top;\n    }\n\n    .dataframe thead th {\n        text-align: right;\n    }\n</style>\n<table border=\"1\" class=\"dataframe\">\n  <thead>\n    <tr style=\"text-align: right;\">\n      <th></th>\n      <th>Date</th>\n      <th>InvoiceNo</th>\n      <th>CustomerNo</th>\n      <th>SalesPerson</th>\n      <th>ProductNo</th>\n      <th>UnitPrice</th>\n      <th>Quantity</th>\n      <th>Amount</th>\n    </tr>\n  </thead>\n  <tbody>\n    <tr>\n      <th>0</th>\n      <td>09/07/2003</td>\n      <td>20000</td>\n      <td>10220</td>\n      <td>8</td>\n      <td>8</td>\n      <td>9.2</td>\n      <td>41</td>\n      <td>377.2</td>\n    </tr>\n    <tr>\n      <th>1</th>\n      <td>21/08/2003</td>\n      <td>20001</td>\n      <td>10491</td>\n      <td>4</td>\n      <td>48</td>\n      <td>14.0</td>\n      <td>30</td>\n      <td>420.0</td>\n    </tr>\n    <tr>\n      <th>2</th>\n      <td>27/08/2003</td>\n      <td>20002</td>\n      <td>10704</td>\n      <td>3</td>\n      <td>43</td>\n      <td>15.0</td>\n      <td>25</td>\n      <td>375.0</td>\n    </tr>\n    <tr>\n      <th>3</th>\n      <td>28/05/2003</td>\n      <td>20003</td>\n      <td>10430</td>\n      <td>5</td>\n      <td>54</td>\n      <td>24.0</td>\n      <td>22</td>\n      <td>528.0</td>\n    </tr>\n    <tr>\n      <th>4</th>\n      <td>06/12/2003</td>\n      <td>20004</td>\n      <td>10841</td>\n      <td>17</td>\n      <td>11</td>\n      <td>15.0</td>\n      <td>21</td>\n      <td>315.0</td>\n    </tr>\n  </tbody>\n</table>\n</div>"
     },
     "metadata": {},
     "output_type": "execute_result",
     "execution_count": 2
    }
   ]
  },
  {
   "cell_type": "markdown",
   "source": [
    "Podemos obter um \"quadro de informações gerais\" dos dados importados para o DataFrame `faturas` por meio \n",
    "de uma chamada ao método `info()`, que pode ser encarado como uma espécie de equivalente em pandas para \n",
    "a função `glimpse()` do pacote tibble do R:"
   ],
   "metadata": {
    "collapsed": false,
    "pycharm": {
     "name": "#%% md\n"
    }
   }
  },
  {
   "cell_type": "code",
   "metadata": {
    "id": "HiP4_pyvzpSC",
    "colab_type": "code",
    "outputId": "56ada84b-3629-423b-e231-64e939d4fcfc",
    "colab": {
     "base_uri": "https://localhost:8080/",
     "height": 187
    },
    "pycharm": {
     "is_executing": false
    }
   },
   "source": [
    "faturas.info()"
   ],
   "execution_count": 3,
   "outputs": [
    {
     "name": "stdout",
     "text": [
      "<class 'pandas.core.frame.DataFrame'>\n",
      "RangeIndex: 4999 entries, 0 to 4998\n",
      "Data columns (total 8 columns):\n",
      "Date           4999 non-null object\n",
      "InvoiceNo      4999 non-null int64\n",
      "CustomerNo     4999 non-null int64\n",
      "SalesPerson    4999 non-null int64\n",
      "ProductNo      4999 non-null int64\n",
      "UnitPrice      4999 non-null float64\n",
      "Quantity       4999 non-null int64\n",
      "Amount         4999 non-null float64\n",
      "dtypes: float64(2), int64(5), object(1)\n",
      "memory usage: 312.6+ KB\n"
     ],
     "output_type": "stream"
    }
   ]
  },
  {
   "cell_type": "markdown",
   "metadata": {
    "id": "tgWxT81ceaPU",
    "colab_type": "text"
   },
   "source": [
    "<br>\n",
    "\n",
    "É relativamente frequente a situação em que o auditor deseja obter um resumo dos dados (valor mínimo, \n",
    "valor máximo, média, medianas, totais, etc.) com base nos registros correspondentes a subconjuntos dos \n",
    "dados em exame. \n",
    "Estes subconjuntos normalmente são definidos pelos valores assumidos por variáveis categóricas.\n",
    "\n",
    "Vejamos um exemplo.\n",
    "\n",
    "O conjunto de dados `Invoices.csv`, contém informações sobre o faturamento de uma empresa em todo o \n",
    "exercício de 2003. Dentre os campos existentes no conjunto de dados há o campo `Date`, que contém a \n",
    "data em que a nota fiscal foi emitida, a partir do qual podemos facilmente criar um novo campo na \n",
    "base de dados contendo o mês de emissão da NF.\n",
    "\n",
    "Observe que este campo terá doze valores distintos (\"`Jan`\", \"`Fev`\", ..., \"`Dez`\") e cada mês define \n",
    "um subconjunto dos dados, para os quais podemos estar interessados em calcular a média, o total, o \n",
    "valor mínimo, o valor máximo, a mediana, etc. dos valores faturados (coluna `Amount`).\n",
    "\n",
    "No caso específico do conjunto de dados `Invoices.csv`, pode ser de interesse do auditor verificar o \n",
    "faturamento médio em cada um dos doze meses do exercício financeiro ou qualquer outra medida resumo \n",
    "para cada mês.\n",
    "\n",
    "A classe `DataFrame` do *pandas* dispõe dos métodos `groupby()` e `agg()` que, em conjunto, nos \n",
    "permitem realizar este procedimento. \n",
    "\n",
    "Os comandos a seguir ilustram como calcular algumas medidas resumos para o conjunto de dados \n",
    "`Invoices.csv` após criarmos uma nova coluna na base de dados para registrar o mês do faturamento. "
   ]
  },
  {
   "cell_type": "code",
   "metadata": {
    "id": "FsiVtTaBLaFe",
    "colab_type": "code",
    "outputId": "19d228e0-05ce-4cc8-eda4-dba45e318e10",
    "colab": {
     "base_uri": "https://localhost:8080/",
     "height": 204
    },
    "pycharm": {
     "is_executing": false
    }
   },
   "source": [
    "# Conversão da coluna Data para o formato de data\n",
    "faturas = (faturas\n",
    "            .assign(\n",
    "                Date = lambda x: pd.to_datetime(x.Date, format=\"%d/%m/%Y\"),\n",
    "                Month = lambda x: x.Date.dt.month_name()))\n",
    "\n",
    "faturas.info()"
   ],
   "execution_count": 4,
   "outputs": [
    {
     "name": "stdout",
     "text": [
      "<class 'pandas.core.frame.DataFrame'>\n",
      "RangeIndex: 4999 entries, 0 to 4998\n",
      "Data columns (total 9 columns):\n",
      "Date           4999 non-null datetime64[ns]\n",
      "InvoiceNo      4999 non-null int64\n",
      "CustomerNo     4999 non-null int64\n",
      "SalesPerson    4999 non-null int64\n",
      "ProductNo      4999 non-null int64\n",
      "UnitPrice      4999 non-null float64\n",
      "Quantity       4999 non-null int64\n",
      "Amount         4999 non-null float64\n",
      "Month          4999 non-null object\n",
      "dtypes: datetime64[ns](1), float64(2), int64(5), object(1)\n",
      "memory usage: 351.6+ KB\n"
     ],
     "output_type": "stream"
    }
   ]
  },
  {
   "cell_type": "code",
   "execution_count": 5,
   "outputs": [
    {
     "data": {
      "text/plain": "        Date  InvoiceNo  CustomerNo  SalesPerson  ProductNo  UnitPrice  \\\n0 2003-07-09      20000       10220            8          8        9.2   \n1 2003-08-21      20001       10491            4         48       14.0   \n2 2003-08-27      20002       10704            3         43       15.0   \n3 2003-05-28      20003       10430            5         54       24.0   \n4 2003-12-06      20004       10841           17         11       15.0   \n\n   Quantity  Amount     Month  \n0        41   377.2      July  \n1        30   420.0    August  \n2        25   375.0    August  \n3        22   528.0       May  \n4        21   315.0  December  ",
      "text/html": "<div>\n<style scoped>\n    .dataframe tbody tr th:only-of-type {\n        vertical-align: middle;\n    }\n\n    .dataframe tbody tr th {\n        vertical-align: top;\n    }\n\n    .dataframe thead th {\n        text-align: right;\n    }\n</style>\n<table border=\"1\" class=\"dataframe\">\n  <thead>\n    <tr style=\"text-align: right;\">\n      <th></th>\n      <th>Date</th>\n      <th>InvoiceNo</th>\n      <th>CustomerNo</th>\n      <th>SalesPerson</th>\n      <th>ProductNo</th>\n      <th>UnitPrice</th>\n      <th>Quantity</th>\n      <th>Amount</th>\n      <th>Month</th>\n    </tr>\n  </thead>\n  <tbody>\n    <tr>\n      <th>0</th>\n      <td>2003-07-09</td>\n      <td>20000</td>\n      <td>10220</td>\n      <td>8</td>\n      <td>8</td>\n      <td>9.2</td>\n      <td>41</td>\n      <td>377.2</td>\n      <td>July</td>\n    </tr>\n    <tr>\n      <th>1</th>\n      <td>2003-08-21</td>\n      <td>20001</td>\n      <td>10491</td>\n      <td>4</td>\n      <td>48</td>\n      <td>14.0</td>\n      <td>30</td>\n      <td>420.0</td>\n      <td>August</td>\n    </tr>\n    <tr>\n      <th>2</th>\n      <td>2003-08-27</td>\n      <td>20002</td>\n      <td>10704</td>\n      <td>3</td>\n      <td>43</td>\n      <td>15.0</td>\n      <td>25</td>\n      <td>375.0</td>\n      <td>August</td>\n    </tr>\n    <tr>\n      <th>3</th>\n      <td>2003-05-28</td>\n      <td>20003</td>\n      <td>10430</td>\n      <td>5</td>\n      <td>54</td>\n      <td>24.0</td>\n      <td>22</td>\n      <td>528.0</td>\n      <td>May</td>\n    </tr>\n    <tr>\n      <th>4</th>\n      <td>2003-12-06</td>\n      <td>20004</td>\n      <td>10841</td>\n      <td>17</td>\n      <td>11</td>\n      <td>15.0</td>\n      <td>21</td>\n      <td>315.0</td>\n      <td>December</td>\n    </tr>\n  </tbody>\n</table>\n</div>"
     },
     "metadata": {},
     "output_type": "execute_result",
     "execution_count": 5
    }
   ],
   "source": [
    "faturas.head()"
   ],
   "metadata": {
    "collapsed": false,
    "pycharm": {
     "name": "#%%\n",
     "is_executing": false
    }
   }
  },
  {
   "cell_type": "markdown",
   "metadata": {
    "id": "7iXbPLkeMv9P",
    "colab_type": "text"
   },
   "source": [
    "O resultado mostra que a variável `Date` agora está no formato de data (*`datetime64[ns]`*). \n",
    "Além disso, foi criada uma nova coluna (`Month`) com o mês em que houve o faturamento.\n",
    "\n",
    "Com isso já temos condições de calcular o faturamento médio mensal:"
   ]
  },
  {
   "cell_type": "code",
   "metadata": {
    "id": "pSzlKpB3MRfg",
    "colab_type": "code",
    "outputId": "1f0926f8-abcf-4bfe-f101-321941a7fe5a",
    "colab": {
     "base_uri": "https://localhost:8080/",
     "height": 330
    },
    "pycharm": {
     "name": "#%%\n",
     "is_executing": false
    }
   },
   "source": [
    "faturamento_medio = (faturas\n",
    "                        .groupby('Month')\n",
    "                        .agg(FatMedio = pd.NamedAgg(column='Amount', aggfunc=lambda x: round(np.mean(x), 2)))\n",
    "                        .reset_index())\n",
    "\n",
    "faturamento_medio.head()"
   ],
   "execution_count": 6,
   "outputs": [
    {
     "data": {
      "text/plain": "      Month  FatMedio\n0     April    853.59\n1    August    743.66\n2  December    783.24\n3  February    850.29\n4   January    771.87",
      "text/html": "<div>\n<style scoped>\n    .dataframe tbody tr th:only-of-type {\n        vertical-align: middle;\n    }\n\n    .dataframe tbody tr th {\n        vertical-align: top;\n    }\n\n    .dataframe thead th {\n        text-align: right;\n    }\n</style>\n<table border=\"1\" class=\"dataframe\">\n  <thead>\n    <tr style=\"text-align: right;\">\n      <th></th>\n      <th>Month</th>\n      <th>FatMedio</th>\n    </tr>\n  </thead>\n  <tbody>\n    <tr>\n      <th>0</th>\n      <td>April</td>\n      <td>853.59</td>\n    </tr>\n    <tr>\n      <th>1</th>\n      <td>August</td>\n      <td>743.66</td>\n    </tr>\n    <tr>\n      <th>2</th>\n      <td>December</td>\n      <td>783.24</td>\n    </tr>\n    <tr>\n      <th>3</th>\n      <td>February</td>\n      <td>850.29</td>\n    </tr>\n    <tr>\n      <th>4</th>\n      <td>January</td>\n      <td>771.87</td>\n    </tr>\n  </tbody>\n</table>\n</div>"
     },
     "metadata": {},
     "output_type": "execute_result",
     "execution_count": 6
    }
   ]
  },
  {
   "cell_type": "markdown",
   "metadata": {
    "id": "yvdmrlfzPPTd",
    "colab_type": "text"
   },
   "source": [
    "Prontinho. Agora temos o faturamento médio mensal."
   ]
  },
  {
   "cell_type": "markdown",
   "metadata": {
    "id": "2mm-yqXtnCgm",
    "colab_type": "text"
   },
   "source": [
    "<br>\n",
    "\n",
    "---\n",
    "\n",
    "![](https://drive.google.com/uc?id=1wjlw2WzGTrBTGafmrvc1R-YFVrkt_oXC) **Agora é com você...**\n",
    "\n",
    "---\n",
    "\n"
   ]
  },
  {
   "cell_type": "markdown",
   "metadata": {
    "id": "XGO4TOgIpVoR",
    "colab_type": "text"
   },
   "source": [
    "<br>\n",
    "\n",
    "**1** - Quantas faturas foram emitidas por mês?."
   ]
  },
  {
   "cell_type": "code",
   "metadata": {
    "id": "9AL8myR1pfGb",
    "colab_type": "code",
    "colab": {},
    "pycharm": {
     "is_executing": false
    }
   },
   "source": [],
   "execution_count": 6,
   "outputs": []
  },
  {
   "cell_type": "markdown",
   "metadata": {
    "id": "HH1cuXqIqa68",
    "colab_type": "text"
   },
   "source": [
    "<br>\n",
    "\n",
    "**2** - Qual o faturamento total em cada mês?."
   ]
  },
  {
   "cell_type": "code",
   "metadata": {
    "id": "dwfOodgur_mQ",
    "colab_type": "code",
    "colab": {},
    "pycharm": {
     "is_executing": false
    }
   },
   "source": [],
   "execution_count": 6,
   "outputs": []
  },
  {
   "cell_type": "markdown",
   "metadata": {
    "id": "aQQKphcdV9dP",
    "colab_type": "text"
   },
   "source": [
    "<br>\n",
    "\n",
    "**3** - Obtenha um novo conjunto de dados contendo o valor total faturado para cada cliente (`CustomerNo`) "
   ]
  },
  {
   "cell_type": "code",
   "metadata": {
    "id": "auWf2l3aW-VT",
    "colab_type": "code",
    "colab": {},
    "pycharm": {
     "is_executing": false
    }
   },
   "source": [],
   "execution_count": 6,
   "outputs": []
  },
  {
   "cell_type": "markdown",
   "metadata": {
    "id": "8J7kIsPpYufh",
    "colab_type": "text",
    "pycharm": {
     "name": "#%% md\n"
    }
   },
   "source": [
    "<br>\n",
    "\n",
    "**4** Obtenha o valor vendido por cada vendedor (`SalesPerson`) em cada mês."
   ]
  }
 ]
}