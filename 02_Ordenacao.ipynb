{
 "cells": [
  {
   "cell_type": "markdown",
   "metadata": {
    "collapsed": true,
    "pycharm": {
     "name": "#%% md\n"
    }
   },
   "source": [
    "[![](https://colab.research.google.com/assets/colab-badge.svg)](https://colab.research.google.com/github/brunomssmelo/Python_em_Auditoria/blob/master/02_Ordenacao.ipynb)\n",
    "\n",
    "# **Análise de Dados aplicada à Auditoria com _Python_**\n",
    "\n",
    "## **Técnicas de Auditoria Assistidas por Computador - TAACs**\n",
    "\n",
    "### Ordenação de registros_"
   ]
  },
  {
   "cell_type": "markdown",
   "source": [
    "> Este documento é uma adaptação para Python do <a href=\"https://colab.research.google.com/drive/1mt06CCNe6_gwpL5ed1PXH300EkSTkO_J\">notebook</a> originalmente codificado em R."
   ],
   "metadata": {
    "collapsed": false
   }
  },
  {
   "cell_type": "code",
   "execution_count": 1,
   "outputs": [],
   "source": [
    "# Antes de prosseguirmos, deveremos carregar aa bibliotecas necessárias:\n",
    "import pandas as pd #pandas"
   ],
   "metadata": {
    "collapsed": false,
    "pycharm": {
     "name": "#%%\n",
     "is_executing": false
    }
   }
  },
  {
   "cell_type": "code",
   "execution_count": 2,
   "outputs": [
    {
     "data": {
      "text/plain": "         Date  InvoiceNo  CustomerNo  SalesPerson  ProductNo  UnitPrice  \\\n0  09/07/2003      20000       10220            8          8        9.2   \n1  21/08/2003      20001       10491            4         48       14.0   \n2  27/08/2003      20002       10704            3         43       15.0   \n3  28/05/2003      20003       10430            5         54       24.0   \n4  06/12/2003      20004       10841           17         11       15.0   \n\n   Quantity  Amount  \n0        41   377.2  \n1        30   420.0  \n2        25   375.0  \n3        22   528.0  \n4        21   315.0  ",
      "text/html": "<div>\n<style scoped>\n    .dataframe tbody tr th:only-of-type {\n        vertical-align: middle;\n    }\n\n    .dataframe tbody tr th {\n        vertical-align: top;\n    }\n\n    .dataframe thead th {\n        text-align: right;\n    }\n</style>\n<table border=\"1\" class=\"dataframe\">\n  <thead>\n    <tr style=\"text-align: right;\">\n      <th></th>\n      <th>Date</th>\n      <th>InvoiceNo</th>\n      <th>CustomerNo</th>\n      <th>SalesPerson</th>\n      <th>ProductNo</th>\n      <th>UnitPrice</th>\n      <th>Quantity</th>\n      <th>Amount</th>\n    </tr>\n  </thead>\n  <tbody>\n    <tr>\n      <th>0</th>\n      <td>09/07/2003</td>\n      <td>20000</td>\n      <td>10220</td>\n      <td>8</td>\n      <td>8</td>\n      <td>9.2</td>\n      <td>41</td>\n      <td>377.2</td>\n    </tr>\n    <tr>\n      <th>1</th>\n      <td>21/08/2003</td>\n      <td>20001</td>\n      <td>10491</td>\n      <td>4</td>\n      <td>48</td>\n      <td>14.0</td>\n      <td>30</td>\n      <td>420.0</td>\n    </tr>\n    <tr>\n      <th>2</th>\n      <td>27/08/2003</td>\n      <td>20002</td>\n      <td>10704</td>\n      <td>3</td>\n      <td>43</td>\n      <td>15.0</td>\n      <td>25</td>\n      <td>375.0</td>\n    </tr>\n    <tr>\n      <th>3</th>\n      <td>28/05/2003</td>\n      <td>20003</td>\n      <td>10430</td>\n      <td>5</td>\n      <td>54</td>\n      <td>24.0</td>\n      <td>22</td>\n      <td>528.0</td>\n    </tr>\n    <tr>\n      <th>4</th>\n      <td>06/12/2003</td>\n      <td>20004</td>\n      <td>10841</td>\n      <td>17</td>\n      <td>11</td>\n      <td>15.0</td>\n      <td>21</td>\n      <td>315.0</td>\n    </tr>\n  </tbody>\n</table>\n</div>"
     },
     "metadata": {},
     "output_type": "execute_result",
     "execution_count": 2
    }
   ],
   "source": [
    "# A importação dos dados pode ser realizada com o método read_csv():\n",
    "faturas = pd.read_csv('./dados/Invoices.csv',  encoding='latin1', sep=';', decimal=',', na_values=' ')\n",
    "\n",
    "# Podemos visualizar os registros iniciais dos dados importados com o método head():\n",
    "faturas.head()\n"
   ],
   "metadata": {
    "collapsed": false,
    "pycharm": {
     "name": "#%%\n",
     "is_executing": false
    }
   }
  },
  {
   "cell_type": "markdown",
   "source": [
    "Podemos obter um \"quadro de informações gerais\" dos dados importados para o `DataFrame` `faturas` por meio de uma chamada ao método `info()`, que pode ser encarado como uma espécie de equivalente em pandas para a função `glimpse()` do pacote tibble do R:  "
   ],
   "metadata": {
    "collapsed": false
   }
  },
  {
   "cell_type": "code",
   "execution_count": 3,
   "outputs": [
    {
     "name": "stdout",
     "text": [
      "<class 'pandas.core.frame.DataFrame'>\n",
      "RangeIndex: 4999 entries, 0 to 4998\n",
      "Data columns (total 8 columns):\n",
      "Date           4999 non-null object\n",
      "InvoiceNo      4999 non-null int64\n",
      "CustomerNo     4999 non-null int64\n",
      "SalesPerson    4999 non-null int64\n",
      "ProductNo      4999 non-null int64\n",
      "UnitPrice      4999 non-null float64\n",
      "Quantity       4999 non-null int64\n",
      "Amount         4999 non-null float64\n",
      "dtypes: float64(2), int64(5), object(1)\n",
      "memory usage: 312.6+ KB\n"
     ],
     "output_type": "stream"
    }
   ],
   "source": [
    "faturas.info()"
   ],
   "metadata": {
    "collapsed": false,
    "pycharm": {
     "name": "#%%\n",
     "is_executing": false
    }
   }
  },
  {
   "cell_type": "markdown",
   "source": [
    "<br>\n",
    "A ordenação de um conjunto de dados com base nos valores de um determinado campo é uma tarefa comum quando se faz a análise de um conjunto de dados.\n",
    "\n",
    "Normalmente o auditor busca, com este procedimento, identificar os maiores valores lançados, as maiores despesas, etc.\n",
    "\n",
    "Para a execução desta técnica o `DataFrame` do Pandas dispõe do método `sort_values()`, cuja utilização será melhor apreendida com um exemplo. \n",
    "\n",
    "Utilizaremos o conjunto de dados `Invoices.csv` (já importado acima) para exemplificar sua utilização na ordenação do conjunto de dados com base nos valores das faturas emitidas, o que permitirá identificar as de maior valor."
   ],
   "metadata": {
    "collapsed": false,
    "pycharm": {
     "name": "#%% md\n"
    }
   }
  },
  {
   "cell_type": "markdown",
   "source": [
    "<br>\n",
    "\n",
    "## **Ordenação com base em uma coluna**\n",
    "\n",
    "<br>\n",
    "\n",
    "A ordenação dessa base de dados com base nos valores das faturas (campo `Amount`) pode ser feita de forma crescente ou decrescente com o uso do método `sort_values()` como ilustrado a seguir:"
   ],
   "metadata": {
    "collapsed": false,
    "pycharm": {
     "name": "#%% md\n"
    }
   }
  },
  {
   "cell_type": "code",
   "execution_count": 4,
   "outputs": [
    {
     "data": {
      "text/plain": "            Date  InvoiceNo  CustomerNo  SalesPerson  ProductNo  UnitPrice  \\\n477   21/06/2003      20478       10597           16         34       2.50   \n3025  14/03/2003      23026       10487           12         34       2.50   \n2565  08/01/2003      22566       10344            6         34       2.50   \n2692  25/03/2003      22693       10666           17         34       2.50   \n628   06/01/2003      20629       10304           25         53       6.00   \n493   27/12/2003      20494       10354           17         47       7.00   \n3720  13/10/2003      23721       10325           15         42       7.00   \n2371  22/08/2003      22372       10617           22         34       2.50   \n4361  01/06/2003      24362       10987           12         34       2.50   \n4144  20/09/2003      24145       10938           23         55       9.00   \n3742  03/09/2003      23743       10338           18         55       9.00   \n1643  12/02/2003      21644       10123           20         41       9.20   \n1720  14/08/2003      21721       10278           18         69       9.50   \n3978  26/11/2003      23979       10451           13         69       9.50   \n2160  01/01/2003      22161       10464           23         77       9.65   \n\n      Quantity  Amount  \n477          2    5.00  \n3025         2    5.00  \n2565         2    5.00  \n2692         2    5.00  \n628          1    6.00  \n493          1    7.00  \n3720         1    7.00  \n2371         3    7.50  \n4361         3    7.50  \n4144         1    9.00  \n3742         1    9.00  \n1643         1    9.20  \n1720         1    9.50  \n3978         1    9.50  \n2160         1    9.65  ",
      "text/html": "<div>\n<style scoped>\n    .dataframe tbody tr th:only-of-type {\n        vertical-align: middle;\n    }\n\n    .dataframe tbody tr th {\n        vertical-align: top;\n    }\n\n    .dataframe thead th {\n        text-align: right;\n    }\n</style>\n<table border=\"1\" class=\"dataframe\">\n  <thead>\n    <tr style=\"text-align: right;\">\n      <th></th>\n      <th>Date</th>\n      <th>InvoiceNo</th>\n      <th>CustomerNo</th>\n      <th>SalesPerson</th>\n      <th>ProductNo</th>\n      <th>UnitPrice</th>\n      <th>Quantity</th>\n      <th>Amount</th>\n    </tr>\n  </thead>\n  <tbody>\n    <tr>\n      <th>477</th>\n      <td>21/06/2003</td>\n      <td>20478</td>\n      <td>10597</td>\n      <td>16</td>\n      <td>34</td>\n      <td>2.50</td>\n      <td>2</td>\n      <td>5.00</td>\n    </tr>\n    <tr>\n      <th>3025</th>\n      <td>14/03/2003</td>\n      <td>23026</td>\n      <td>10487</td>\n      <td>12</td>\n      <td>34</td>\n      <td>2.50</td>\n      <td>2</td>\n      <td>5.00</td>\n    </tr>\n    <tr>\n      <th>2565</th>\n      <td>08/01/2003</td>\n      <td>22566</td>\n      <td>10344</td>\n      <td>6</td>\n      <td>34</td>\n      <td>2.50</td>\n      <td>2</td>\n      <td>5.00</td>\n    </tr>\n    <tr>\n      <th>2692</th>\n      <td>25/03/2003</td>\n      <td>22693</td>\n      <td>10666</td>\n      <td>17</td>\n      <td>34</td>\n      <td>2.50</td>\n      <td>2</td>\n      <td>5.00</td>\n    </tr>\n    <tr>\n      <th>628</th>\n      <td>06/01/2003</td>\n      <td>20629</td>\n      <td>10304</td>\n      <td>25</td>\n      <td>53</td>\n      <td>6.00</td>\n      <td>1</td>\n      <td>6.00</td>\n    </tr>\n    <tr>\n      <th>493</th>\n      <td>27/12/2003</td>\n      <td>20494</td>\n      <td>10354</td>\n      <td>17</td>\n      <td>47</td>\n      <td>7.00</td>\n      <td>1</td>\n      <td>7.00</td>\n    </tr>\n    <tr>\n      <th>3720</th>\n      <td>13/10/2003</td>\n      <td>23721</td>\n      <td>10325</td>\n      <td>15</td>\n      <td>42</td>\n      <td>7.00</td>\n      <td>1</td>\n      <td>7.00</td>\n    </tr>\n    <tr>\n      <th>2371</th>\n      <td>22/08/2003</td>\n      <td>22372</td>\n      <td>10617</td>\n      <td>22</td>\n      <td>34</td>\n      <td>2.50</td>\n      <td>3</td>\n      <td>7.50</td>\n    </tr>\n    <tr>\n      <th>4361</th>\n      <td>01/06/2003</td>\n      <td>24362</td>\n      <td>10987</td>\n      <td>12</td>\n      <td>34</td>\n      <td>2.50</td>\n      <td>3</td>\n      <td>7.50</td>\n    </tr>\n    <tr>\n      <th>4144</th>\n      <td>20/09/2003</td>\n      <td>24145</td>\n      <td>10938</td>\n      <td>23</td>\n      <td>55</td>\n      <td>9.00</td>\n      <td>1</td>\n      <td>9.00</td>\n    </tr>\n    <tr>\n      <th>3742</th>\n      <td>03/09/2003</td>\n      <td>23743</td>\n      <td>10338</td>\n      <td>18</td>\n      <td>55</td>\n      <td>9.00</td>\n      <td>1</td>\n      <td>9.00</td>\n    </tr>\n    <tr>\n      <th>1643</th>\n      <td>12/02/2003</td>\n      <td>21644</td>\n      <td>10123</td>\n      <td>20</td>\n      <td>41</td>\n      <td>9.20</td>\n      <td>1</td>\n      <td>9.20</td>\n    </tr>\n    <tr>\n      <th>1720</th>\n      <td>14/08/2003</td>\n      <td>21721</td>\n      <td>10278</td>\n      <td>18</td>\n      <td>69</td>\n      <td>9.50</td>\n      <td>1</td>\n      <td>9.50</td>\n    </tr>\n    <tr>\n      <th>3978</th>\n      <td>26/11/2003</td>\n      <td>23979</td>\n      <td>10451</td>\n      <td>13</td>\n      <td>69</td>\n      <td>9.50</td>\n      <td>1</td>\n      <td>9.50</td>\n    </tr>\n    <tr>\n      <th>2160</th>\n      <td>01/01/2003</td>\n      <td>22161</td>\n      <td>10464</td>\n      <td>23</td>\n      <td>77</td>\n      <td>9.65</td>\n      <td>1</td>\n      <td>9.65</td>\n    </tr>\n  </tbody>\n</table>\n</div>"
     },
     "metadata": {},
     "output_type": "execute_result",
     "execution_count": 4
    }
   ],
   "source": [
    "(faturas\n",
    "    .sort_values(by='Amount') \n",
    "    .head(15))"
   ],
   "metadata": {
    "collapsed": false,
    "pycharm": {
     "name": "#%%\n",
     "is_executing": false
    }
   }
  },
  {
   "cell_type": "markdown",
   "source": [
    "Como pode ser visto, os valores da coluna Amount estão ordenados de forma crescente.\n",
    "\n",
    "A ordenação em forma decrescente pode ser feita da seguinte forma, por meio do  parâmetro `ascending`:"
   ],
   "metadata": {
    "collapsed": false,
    "pycharm": {
     "name": "#%% md\n"
    }
   }
  },
  {
   "cell_type": "code",
   "execution_count": 5,
   "outputs": [
    {
     "data": {
      "text/plain": "            Date  InvoiceNo  CustomerNo  SalesPerson  ProductNo  UnitPrice  \\\n4046  28/02/2003      24047       10073           22         60      263.5   \n3183  24/04/2003      23184       10913            9         14      263.5   \n251   11/07/2003      20252       10636            9         60      263.5   \n1548  12/06/2003      21549       10181           12         14      263.5   \n271   06/07/2003      20272       10934           15         60      263.5   \n158   30/07/2003      20159       10894            2         60      263.5   \n4283  05/05/2003      24284       10655           23         60      263.5   \n1460  19/04/2003      21461       10473           23         14      263.5   \n350   27/06/2003      20351       10208           10         60      263.5   \n3210  06/05/2003      23211       10365           25         14      263.5   \n3140  29/05/2003      23141       10885            6         14      263.5   \n2483  05/11/2003      22484       10360            7         14      263.5   \n1280  04/12/2003      21281       10022           25         60      263.5   \n3252  12/12/2003      23253       10097            2         60      263.5   \n1497  19/03/2003      21498       10590           22         60      263.5   \n\n      Quantity   Amount  \n4046        51  13438.5  \n3183        51  13438.5  \n251         49  12911.5  \n1548        49  12911.5  \n271         48  12648.0  \n158         47  12384.5  \n4283        47  12384.5  \n1460        46  12121.0  \n350         46  12121.0  \n3210        46  12121.0  \n3140        46  12121.0  \n2483        46  12121.0  \n1280        44  11594.0  \n3252        44  11594.0  \n1497        43  11330.5  ",
      "text/html": "<div>\n<style scoped>\n    .dataframe tbody tr th:only-of-type {\n        vertical-align: middle;\n    }\n\n    .dataframe tbody tr th {\n        vertical-align: top;\n    }\n\n    .dataframe thead th {\n        text-align: right;\n    }\n</style>\n<table border=\"1\" class=\"dataframe\">\n  <thead>\n    <tr style=\"text-align: right;\">\n      <th></th>\n      <th>Date</th>\n      <th>InvoiceNo</th>\n      <th>CustomerNo</th>\n      <th>SalesPerson</th>\n      <th>ProductNo</th>\n      <th>UnitPrice</th>\n      <th>Quantity</th>\n      <th>Amount</th>\n    </tr>\n  </thead>\n  <tbody>\n    <tr>\n      <th>4046</th>\n      <td>28/02/2003</td>\n      <td>24047</td>\n      <td>10073</td>\n      <td>22</td>\n      <td>60</td>\n      <td>263.5</td>\n      <td>51</td>\n      <td>13438.5</td>\n    </tr>\n    <tr>\n      <th>3183</th>\n      <td>24/04/2003</td>\n      <td>23184</td>\n      <td>10913</td>\n      <td>9</td>\n      <td>14</td>\n      <td>263.5</td>\n      <td>51</td>\n      <td>13438.5</td>\n    </tr>\n    <tr>\n      <th>251</th>\n      <td>11/07/2003</td>\n      <td>20252</td>\n      <td>10636</td>\n      <td>9</td>\n      <td>60</td>\n      <td>263.5</td>\n      <td>49</td>\n      <td>12911.5</td>\n    </tr>\n    <tr>\n      <th>1548</th>\n      <td>12/06/2003</td>\n      <td>21549</td>\n      <td>10181</td>\n      <td>12</td>\n      <td>14</td>\n      <td>263.5</td>\n      <td>49</td>\n      <td>12911.5</td>\n    </tr>\n    <tr>\n      <th>271</th>\n      <td>06/07/2003</td>\n      <td>20272</td>\n      <td>10934</td>\n      <td>15</td>\n      <td>60</td>\n      <td>263.5</td>\n      <td>48</td>\n      <td>12648.0</td>\n    </tr>\n    <tr>\n      <th>158</th>\n      <td>30/07/2003</td>\n      <td>20159</td>\n      <td>10894</td>\n      <td>2</td>\n      <td>60</td>\n      <td>263.5</td>\n      <td>47</td>\n      <td>12384.5</td>\n    </tr>\n    <tr>\n      <th>4283</th>\n      <td>05/05/2003</td>\n      <td>24284</td>\n      <td>10655</td>\n      <td>23</td>\n      <td>60</td>\n      <td>263.5</td>\n      <td>47</td>\n      <td>12384.5</td>\n    </tr>\n    <tr>\n      <th>1460</th>\n      <td>19/04/2003</td>\n      <td>21461</td>\n      <td>10473</td>\n      <td>23</td>\n      <td>14</td>\n      <td>263.5</td>\n      <td>46</td>\n      <td>12121.0</td>\n    </tr>\n    <tr>\n      <th>350</th>\n      <td>27/06/2003</td>\n      <td>20351</td>\n      <td>10208</td>\n      <td>10</td>\n      <td>60</td>\n      <td>263.5</td>\n      <td>46</td>\n      <td>12121.0</td>\n    </tr>\n    <tr>\n      <th>3210</th>\n      <td>06/05/2003</td>\n      <td>23211</td>\n      <td>10365</td>\n      <td>25</td>\n      <td>14</td>\n      <td>263.5</td>\n      <td>46</td>\n      <td>12121.0</td>\n    </tr>\n    <tr>\n      <th>3140</th>\n      <td>29/05/2003</td>\n      <td>23141</td>\n      <td>10885</td>\n      <td>6</td>\n      <td>14</td>\n      <td>263.5</td>\n      <td>46</td>\n      <td>12121.0</td>\n    </tr>\n    <tr>\n      <th>2483</th>\n      <td>05/11/2003</td>\n      <td>22484</td>\n      <td>10360</td>\n      <td>7</td>\n      <td>14</td>\n      <td>263.5</td>\n      <td>46</td>\n      <td>12121.0</td>\n    </tr>\n    <tr>\n      <th>1280</th>\n      <td>04/12/2003</td>\n      <td>21281</td>\n      <td>10022</td>\n      <td>25</td>\n      <td>60</td>\n      <td>263.5</td>\n      <td>44</td>\n      <td>11594.0</td>\n    </tr>\n    <tr>\n      <th>3252</th>\n      <td>12/12/2003</td>\n      <td>23253</td>\n      <td>10097</td>\n      <td>2</td>\n      <td>60</td>\n      <td>263.5</td>\n      <td>44</td>\n      <td>11594.0</td>\n    </tr>\n    <tr>\n      <th>1497</th>\n      <td>19/03/2003</td>\n      <td>21498</td>\n      <td>10590</td>\n      <td>22</td>\n      <td>60</td>\n      <td>263.5</td>\n      <td>43</td>\n      <td>11330.5</td>\n    </tr>\n  </tbody>\n</table>\n</div>"
     },
     "metadata": {},
     "output_type": "execute_result",
     "execution_count": 5
    }
   ],
   "source": [
    "(faturas\n",
    "    .sort_values(by='Amount', ascending=False) \n",
    "    .head(15))"
   ],
   "metadata": {
    "collapsed": false,
    "pycharm": {
     "name": "#%%\n",
     "is_executing": false
    }
   }
  },
  {
   "cell_type": "markdown",
   "source": [
    "<br>\n",
    "\n",
    "## **Ordenação com base em duas colunas**\n",
    "\n",
    "<br>\n",
    "\n",
    "Caso nosso interesse fosse em ordenar a base de dados com base nas colunas `SalesPerson` (ordem crescente) e `Amount` (ordem decrescente), podemos fazer da seguinte forma:"
   ],
   "metadata": {
    "collapsed": false,
    "pycharm": {
     "name": "#%% md\n"
    }
   }
  },
  {
   "cell_type": "code",
   "execution_count": 6,
   "outputs": [
    {
     "data": {
      "text/plain": "            Date  InvoiceNo  CustomerNo  SalesPerson  ProductNo  UnitPrice  \\\n3502  18/02/2003      23503       10363            1         65       55.0   \n2396  26/04/2003      22397       10974            1         73       49.3   \n2515  04/10/2003      22516       10220            1         63       38.0   \n2745  19/03/2003      22746       10084            1         25       36.0   \n1021  21/01/2003      21022       10463            1         29       43.9   \n\n      Quantity  Amount  \n3502        48  2640.0  \n2396        39  1922.7  \n2515        45  1710.0  \n2745        47  1692.0  \n1021        35  1536.5  ",
      "text/html": "<div>\n<style scoped>\n    .dataframe tbody tr th:only-of-type {\n        vertical-align: middle;\n    }\n\n    .dataframe tbody tr th {\n        vertical-align: top;\n    }\n\n    .dataframe thead th {\n        text-align: right;\n    }\n</style>\n<table border=\"1\" class=\"dataframe\">\n  <thead>\n    <tr style=\"text-align: right;\">\n      <th></th>\n      <th>Date</th>\n      <th>InvoiceNo</th>\n      <th>CustomerNo</th>\n      <th>SalesPerson</th>\n      <th>ProductNo</th>\n      <th>UnitPrice</th>\n      <th>Quantity</th>\n      <th>Amount</th>\n    </tr>\n  </thead>\n  <tbody>\n    <tr>\n      <th>3502</th>\n      <td>18/02/2003</td>\n      <td>23503</td>\n      <td>10363</td>\n      <td>1</td>\n      <td>65</td>\n      <td>55.0</td>\n      <td>48</td>\n      <td>2640.0</td>\n    </tr>\n    <tr>\n      <th>2396</th>\n      <td>26/04/2003</td>\n      <td>22397</td>\n      <td>10974</td>\n      <td>1</td>\n      <td>73</td>\n      <td>49.3</td>\n      <td>39</td>\n      <td>1922.7</td>\n    </tr>\n    <tr>\n      <th>2515</th>\n      <td>04/10/2003</td>\n      <td>22516</td>\n      <td>10220</td>\n      <td>1</td>\n      <td>63</td>\n      <td>38.0</td>\n      <td>45</td>\n      <td>1710.0</td>\n    </tr>\n    <tr>\n      <th>2745</th>\n      <td>19/03/2003</td>\n      <td>22746</td>\n      <td>10084</td>\n      <td>1</td>\n      <td>25</td>\n      <td>36.0</td>\n      <td>47</td>\n      <td>1692.0</td>\n    </tr>\n    <tr>\n      <th>1021</th>\n      <td>21/01/2003</td>\n      <td>21022</td>\n      <td>10463</td>\n      <td>1</td>\n      <td>29</td>\n      <td>43.9</td>\n      <td>35</td>\n      <td>1536.5</td>\n    </tr>\n  </tbody>\n</table>\n</div>"
     },
     "metadata": {},
     "output_type": "execute_result",
     "execution_count": 6
    }
   ],
   "source": [
    "faturas = (faturas\n",
    "            .sort_values(['SalesPerson', 'Amount'], ascending=[True, False]))\n",
    "\n",
    "faturas.head()"
   ],
   "metadata": {
    "collapsed": false,
    "pycharm": {
     "name": "#%% \n",
     "is_executing": false
    }
   }
  },
  {
   "cell_type": "code",
   "execution_count": 7,
   "outputs": [
    {
     "data": {
      "text/plain": "            Date  InvoiceNo  CustomerNo  SalesPerson  ProductNo  UnitPrice  \\\n2957  30/07/2003      22958       10858           26         64       9.00   \n3794  28/06/2003      23795       10256           26          1      14.00   \n963   16/11/2003      20964       10976           26         77       9.65   \n3579  30/05/2003      23580       10324           26         67       9.50   \n11    14/01/2003      20010       10439           99         38       7.45   \n\n      Quantity  Amount  \n2957         5    45.0  \n3794         2    28.0  \n963          2    19.3  \n3579         2    19.0  \n11          28   208.6  ",
      "text/html": "<div>\n<style scoped>\n    .dataframe tbody tr th:only-of-type {\n        vertical-align: middle;\n    }\n\n    .dataframe tbody tr th {\n        vertical-align: top;\n    }\n\n    .dataframe thead th {\n        text-align: right;\n    }\n</style>\n<table border=\"1\" class=\"dataframe\">\n  <thead>\n    <tr style=\"text-align: right;\">\n      <th></th>\n      <th>Date</th>\n      <th>InvoiceNo</th>\n      <th>CustomerNo</th>\n      <th>SalesPerson</th>\n      <th>ProductNo</th>\n      <th>UnitPrice</th>\n      <th>Quantity</th>\n      <th>Amount</th>\n    </tr>\n  </thead>\n  <tbody>\n    <tr>\n      <th>2957</th>\n      <td>30/07/2003</td>\n      <td>22958</td>\n      <td>10858</td>\n      <td>26</td>\n      <td>64</td>\n      <td>9.00</td>\n      <td>5</td>\n      <td>45.0</td>\n    </tr>\n    <tr>\n      <th>3794</th>\n      <td>28/06/2003</td>\n      <td>23795</td>\n      <td>10256</td>\n      <td>26</td>\n      <td>1</td>\n      <td>14.00</td>\n      <td>2</td>\n      <td>28.0</td>\n    </tr>\n    <tr>\n      <th>963</th>\n      <td>16/11/2003</td>\n      <td>20964</td>\n      <td>10976</td>\n      <td>26</td>\n      <td>77</td>\n      <td>9.65</td>\n      <td>2</td>\n      <td>19.3</td>\n    </tr>\n    <tr>\n      <th>3579</th>\n      <td>30/05/2003</td>\n      <td>23580</td>\n      <td>10324</td>\n      <td>26</td>\n      <td>67</td>\n      <td>9.50</td>\n      <td>2</td>\n      <td>19.0</td>\n    </tr>\n    <tr>\n      <th>11</th>\n      <td>14/01/2003</td>\n      <td>20010</td>\n      <td>10439</td>\n      <td>99</td>\n      <td>38</td>\n      <td>7.45</td>\n      <td>28</td>\n      <td>208.6</td>\n    </tr>\n  </tbody>\n</table>\n</div>"
     },
     "metadata": {},
     "output_type": "execute_result",
     "execution_count": 7
    }
   ],
   "source": [
    "faturas.tail()"
   ],
   "metadata": {
    "collapsed": false,
    "pycharm": {
     "name": "#%%\n",
     "is_executing": false
    }
   }
  },
  {
   "cell_type": "markdown",
   "source": [
    "O comportamento padrão do método `sort_values()` é a ordenação em forma crescente.\n",
    "Para realizar a ordenação por mais de duas colunas, basta ir acrescentando os campos numa lista, seguidos (caso necessário) por outra lista informando se os respectivos campos devem ser ordenados de forma crescente (`True`) ou não (`False`).\n"
   ],
   "metadata": {
    "collapsed": false,
    "pycharm": {
     "name": "#%% md\n"
    }
   }
  },
  {
   "cell_type": "markdown",
   "source": [
    "<br>\n",
    "\n",
    "---\n",
    "\n",
    "![](./imagens/sua_vez_fundo_transp.png) **Agora é com você...**\n",
    "\n",
    "---"
   ],
   "metadata": {
    "collapsed": false
   }
  },
  {
   "cell_type": "markdown",
   "source": [
    "**1** - Ordene o conjunto de dados em ordem decrescente pelo número da fatura (campo `InvoiceNo`)."
   ],
   "metadata": {
    "collapsed": false
   }
  },
  {
   "cell_type": "code",
   "execution_count": 7,
   "outputs": [],
   "source": [],
   "metadata": {
    "collapsed": false,
    "pycharm": {
     "name": "#%%\n",
     "is_executing": false
    }
   }
  },
  {
   "cell_type": "markdown",
   "source": [
    "**2** - Ordene o conjunto de dados por número do produto (coluna `ProducNo`) e preço unitário (coluna `UnitPrice`) ambos de forma decrescente."
   ],
   "metadata": {
    "collapsed": false
   }
  },
  {
   "cell_type": "code",
   "execution_count": 7,
   "outputs": [],
   "source": [],
   "metadata": {
    "collapsed": false,
    "pycharm": {
     "name": "#%%\n",
     "is_executing": false
    }
   }
  }
 ],
 "metadata": {
  "kernelspec": {
   "display_name": "Python 3",
   "language": "python",
   "name": "python3"
  },
  "language_info": {
   "codemirror_mode": {
    "name": "ipython",
    "version": 2
   },
   "file_extension": ".py",
   "mimetype": "text/x-python",
   "name": "python",
   "nbconvert_exporter": "python",
   "pygments_lexer": "ipython2",
   "version": "2.7.6"
  },
  "pycharm": {
   "stem_cell": {
    "cell_type": "raw",
    "source": [],
    "metadata": {
     "collapsed": false
    }
   }
  }
 },
 "nbformat": 4,
 "nbformat_minor": 0
}