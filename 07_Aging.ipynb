{
 "cells": [
  {
   "cell_type": "markdown",
   "metadata": {
    "colab_type": "text",
    "id": "C_98iTtYdv0l"
   },
   "source": [
    "[![](https://colab.research.google.com/assets/colab-badge.svg)](https://colab.research.google.com/github/brunomssmelo/Python_em_Auditoria/blob/master/07_Aging.ipynb)\n",
    "\n",
    "# **Análise de Dados aplicada à Auditoria com _Python_**\n",
    "\n",
    "## **Técnicas de Auditoria Assistidas por Computador - TAACs**\n",
    "\n",
    "### _Aging_"
   ]
  },
  {
   "cell_type": "markdown",
   "metadata": {},
   "source": [
    "> Este documento é uma adaptação para Python do <a href=\"https://colab.research.google.com/drive/1_i9YYbUNi3fWSh6lfUlDCRBI8UwLTwsJ\">notebook</a> originalmente codificado em R."
   ]
  },
  {
   "cell_type": "code",
   "execution_count": 1,
   "metadata": {
    "pycharm": {
     "is_executing": false,
     "name": "#%%\n"
    }
   },
   "outputs": [],
   "source": [
    "# Antes de prosseguirmos, deveremos carregar as bibliotecas necessárias:\n",
    "import pandas as pd #pandas\n",
    "import numpy as np #numpy"
   ]
  },
  {
   "cell_type": "markdown",
   "metadata": {
    "colab_type": "text",
    "id": "tgWxT81ceaPU"
   },
   "source": [
    "<br>\n",
    "\n",
    "O *aging* é uma estratificação que se realiza em um conjunto de dados com base em um escalonamento do número de dias \n",
    "decorridos entre a data de ocorrência de determinado evento constante dos dados em exame e uma data de interesse, \n",
    "geralmente a data de encerramento do exercício (31/12/YYYY). \n",
    "O *aging* permite obter um perfil dos dados em análise.\n",
    "\n",
    "Para ilustrar o procedimento, vamos usar o conjunto de dados `Arfile.ASC` que contém dados relativos ao contas a \n",
    "receber. Para termos uma idéia da estrutura do arquivo a ser importado, apresentamos a seguir os primeiros registros do \n",
    "mesmo.\n",
    "\n",
    "```\n",
    "S000030907702460020       13192.4220010101 \n",
    "S000004194300870003         260.9720010103 \n",
    "S000014319100870020        9541.2820010106 \n",
    "S000045970990450020        2254.1920010110 \n",
    "S000003018701390004        2286.8420010110 \n",
    "S000000262400280009        3993.9020010111 \n",
    "```\n",
    "\n",
    "Este conjunto de dados contém os seguintes campos:\n",
    "\n",
    "* Número da Conta;   \n",
    "* Código da Divisão;   \n",
    "* Código da Loja;   \n",
    "* Saldo ao término do exercício; e   \n",
    "* Data de Vencimento.\n",
    "\n",
    "Nosso objetivo será obter o perfil considerando o número de dias decorridos entre a Data de Vencimento e o encerramento \n",
    "do exercício, no caso 31/12/2001.  \n",
    "\n",
    "Supondo que se queira estratificar os dados com base nos valores a receber\n",
    " \n",
    "- até 30 dias do encerramento do exercício, \n",
    "- de 31 a 60 dias, \n",
    "- de 61 a 90 dias, \n",
    "- de 91 a 120 dias, \n",
    "- de 121 a 150 dias, \n",
    "- de 151 a 180 e \n",
    "- faturas emitidas a mais de 180 dias\n",
    "\n",
    "Neste caso, os passos a serem seguidos poderiam ser os seguintes:"
   ]
  },
  {
   "cell_type": "markdown",
   "metadata": {
    "colab_type": "text",
    "id": "qj1xFIHRFAZD"
   },
   "source": [
    "**Passo 1** - Importar a base de dados.  Os dados estão contidos em um arquivo de texto de formato fixo como pode ser \n",
    "visto no extrato acima. \n",
    "\n",
    "Para importar arquivos neste formato, o *pandas* dispõe da função `read_fwf()`."
   ]
  },
  {
   "cell_type": "code",
   "execution_count": 2,
   "metadata": {
    "colab": {
     "base_uri": "https://localhost:8080/",
     "height": 357
    },
    "colab_type": "code",
    "id": "kwrbpRmMF7Iw",
    "outputId": "61f37e10-1d97-481a-8bd0-277c8e22409a",
    "pycharm": {
     "is_executing": false
    }
   },
   "outputs": [],
   "source": [
    "# importação dos dados para a variável contas a receber\n",
    "contas_receber = (pd.read_fwf(\"./dados/Arfile.ASC\",\n",
    "                              widths=[11, 4, 4, 15, 8],\n",
    "                              names=[\"Conta\", \"Divisao\", \"Loja\", \"Saldo\", \"DataVenc\"]))"
   ]
  },
  {
   "cell_type": "code",
   "execution_count": 3,
   "metadata": {
    "pycharm": {
     "is_executing": false,
     "name": "#%%\n"
    }
   },
   "outputs": [
    {
     "name": "stdout",
     "output_type": "stream",
     "text": [
      "<class 'pandas.core.frame.DataFrame'>\n",
      "RangeIndex: 989 entries, 0 to 988\n",
      "Data columns (total 5 columns):\n",
      "Conta       989 non-null object\n",
      "Divisao     989 non-null int64\n",
      "Loja        989 non-null int64\n",
      "Saldo       989 non-null float64\n",
      "DataVenc    989 non-null int64\n",
      "dtypes: float64(1), int64(3), object(1)\n",
      "memory usage: 38.8+ KB\n"
     ]
    }
   ],
   "source": [
    "# exibição de informações gerais do DataFrame contas_receber\n",
    "contas_receber.info()"
   ]
  },
  {
   "cell_type": "code",
   "execution_count": 4,
   "metadata": {
    "pycharm": {
     "is_executing": false,
     "name": "#%%\n"
    }
   },
   "outputs": [
    {
     "data": {
      "text/html": [
       "<div>\n",
       "<style scoped>\n",
       "    .dataframe tbody tr th:only-of-type {\n",
       "        vertical-align: middle;\n",
       "    }\n",
       "\n",
       "    .dataframe tbody tr th {\n",
       "        vertical-align: top;\n",
       "    }\n",
       "\n",
       "    .dataframe thead th {\n",
       "        text-align: right;\n",
       "    }\n",
       "</style>\n",
       "<table border=\"1\" class=\"dataframe\">\n",
       "  <thead>\n",
       "    <tr style=\"text-align: right;\">\n",
       "      <th></th>\n",
       "      <th>Conta</th>\n",
       "      <th>Divisao</th>\n",
       "      <th>Loja</th>\n",
       "      <th>Saldo</th>\n",
       "      <th>DataVenc</th>\n",
       "    </tr>\n",
       "  </thead>\n",
       "  <tbody>\n",
       "    <tr>\n",
       "      <th>0</th>\n",
       "      <td>S0000309077</td>\n",
       "      <td>246</td>\n",
       "      <td>20</td>\n",
       "      <td>13192.42</td>\n",
       "      <td>20010101</td>\n",
       "    </tr>\n",
       "    <tr>\n",
       "      <th>1</th>\n",
       "      <td>S0000041943</td>\n",
       "      <td>87</td>\n",
       "      <td>3</td>\n",
       "      <td>260.97</td>\n",
       "      <td>20010103</td>\n",
       "    </tr>\n",
       "    <tr>\n",
       "      <th>2</th>\n",
       "      <td>S0000143191</td>\n",
       "      <td>87</td>\n",
       "      <td>20</td>\n",
       "      <td>9541.28</td>\n",
       "      <td>20010106</td>\n",
       "    </tr>\n",
       "    <tr>\n",
       "      <th>3</th>\n",
       "      <td>S0000459709</td>\n",
       "      <td>9045</td>\n",
       "      <td>20</td>\n",
       "      <td>2254.19</td>\n",
       "      <td>20010110</td>\n",
       "    </tr>\n",
       "    <tr>\n",
       "      <th>4</th>\n",
       "      <td>S0000030187</td>\n",
       "      <td>139</td>\n",
       "      <td>4</td>\n",
       "      <td>2286.84</td>\n",
       "      <td>20010110</td>\n",
       "    </tr>\n",
       "  </tbody>\n",
       "</table>\n",
       "</div>"
      ],
      "text/plain": [
       "         Conta  Divisao  Loja     Saldo  DataVenc\n",
       "0  S0000309077      246    20  13192.42  20010101\n",
       "1  S0000041943       87     3    260.97  20010103\n",
       "2  S0000143191       87    20   9541.28  20010106\n",
       "3  S0000459709     9045    20   2254.19  20010110\n",
       "4  S0000030187      139     4   2286.84  20010110"
      ]
     },
     "execution_count": 4,
     "metadata": {},
     "output_type": "execute_result"
    }
   ],
   "source": [
    "# exibição dos primeiros 5 registros do DataFrame contas_receber\n",
    "contas_receber.head()"
   ]
  },
  {
   "cell_type": "markdown",
   "metadata": {
    "colab_type": "text",
    "id": "lxoKSXO_v9u4"
   },
   "source": [
    "> **Nota:** Para a correta importação de arquivos texto de tamanho fixo é imprescindível que se disponha do *layout* do arquivo, \n",
    "ou dicionário de dados, documento que irá fornecer informações sobre o início e fim de cada campo, ou o tamanho de cada \n",
    "campo e as variáveis nele contidas. Sem essas informações não é possível importar corretamente os dados contidos neste  \n",
    "tipo de arquivo."
   ]
  },
  {
   "cell_type": "markdown",
   "metadata": {
    "colab_type": "text",
    "id": "zNGfw1q1GSea"
   },
   "source": [
    "**Passo 2** - Preparar a base de dados para análise.\n",
    "\n",
    "Neste exemplo, a preparação consiste em converter o campo contendo data (`DataVenc`) para o formato de data."
   ]
  },
  {
   "cell_type": "code",
   "execution_count": 5,
   "metadata": {
    "colab": {
     "base_uri": "https://localhost:8080/",
     "height": 204
    },
    "colab_type": "code",
    "id": "y-PrxMpjGn-8",
    "outputId": "8847040c-68d9-47fd-ce7e-052b1a02e227",
    "pycharm": {
     "is_executing": false,
     "name": "#%%\n"
    }
   },
   "outputs": [
    {
     "data": {
      "text/html": [
       "<div>\n",
       "<style scoped>\n",
       "    .dataframe tbody tr th:only-of-type {\n",
       "        vertical-align: middle;\n",
       "    }\n",
       "\n",
       "    .dataframe tbody tr th {\n",
       "        vertical-align: top;\n",
       "    }\n",
       "\n",
       "    .dataframe thead th {\n",
       "        text-align: right;\n",
       "    }\n",
       "</style>\n",
       "<table border=\"1\" class=\"dataframe\">\n",
       "  <thead>\n",
       "    <tr style=\"text-align: right;\">\n",
       "      <th></th>\n",
       "      <th>Conta</th>\n",
       "      <th>Divisao</th>\n",
       "      <th>Loja</th>\n",
       "      <th>Saldo</th>\n",
       "      <th>DataVenc</th>\n",
       "    </tr>\n",
       "  </thead>\n",
       "  <tbody>\n",
       "    <tr>\n",
       "      <th>0</th>\n",
       "      <td>S0000309077</td>\n",
       "      <td>246</td>\n",
       "      <td>20</td>\n",
       "      <td>13192.42</td>\n",
       "      <td>2001-01-01</td>\n",
       "    </tr>\n",
       "    <tr>\n",
       "      <th>1</th>\n",
       "      <td>S0000041943</td>\n",
       "      <td>87</td>\n",
       "      <td>3</td>\n",
       "      <td>260.97</td>\n",
       "      <td>2001-01-03</td>\n",
       "    </tr>\n",
       "    <tr>\n",
       "      <th>2</th>\n",
       "      <td>S0000143191</td>\n",
       "      <td>87</td>\n",
       "      <td>20</td>\n",
       "      <td>9541.28</td>\n",
       "      <td>2001-01-06</td>\n",
       "    </tr>\n",
       "    <tr>\n",
       "      <th>3</th>\n",
       "      <td>S0000459709</td>\n",
       "      <td>9045</td>\n",
       "      <td>20</td>\n",
       "      <td>2254.19</td>\n",
       "      <td>2001-01-10</td>\n",
       "    </tr>\n",
       "    <tr>\n",
       "      <th>4</th>\n",
       "      <td>S0000030187</td>\n",
       "      <td>139</td>\n",
       "      <td>4</td>\n",
       "      <td>2286.84</td>\n",
       "      <td>2001-01-10</td>\n",
       "    </tr>\n",
       "  </tbody>\n",
       "</table>\n",
       "</div>"
      ],
      "text/plain": [
       "         Conta  Divisao  Loja     Saldo   DataVenc\n",
       "0  S0000309077      246    20  13192.42 2001-01-01\n",
       "1  S0000041943       87     3    260.97 2001-01-03\n",
       "2  S0000143191       87    20   9541.28 2001-01-06\n",
       "3  S0000459709     9045    20   2254.19 2001-01-10\n",
       "4  S0000030187      139     4   2286.84 2001-01-10"
      ]
     },
     "execution_count": 5,
     "metadata": {},
     "output_type": "execute_result"
    }
   ],
   "source": [
    "contas_receber.DataVenc = pd.to_datetime(contas_receber.DataVenc, format=\"%Y%m%d\") \n",
    "\n",
    "contas_receber.head()"
   ]
  },
  {
   "cell_type": "markdown",
   "metadata": {
    "colab_type": "text",
    "id": "4q6dJgweGtCN"
   },
   "source": [
    "**Passo 3** - Calcular o número de dias decorridos da data de vencimento da fatura até a data de encerramento do \n",
    "exercício. No caso em exame, 31/12/2001.  Os comandos seguintes ilustram como isso pode ser feito."
   ]
  },
  {
   "cell_type": "code",
   "execution_count": 6,
   "metadata": {
    "colab": {
     "base_uri": "https://localhost:8080/",
     "height": 204
    },
    "colab_type": "code",
    "id": "Gf52eiekGzlB",
    "outputId": "ae09438a-13bc-414c-b739-090d87bd1773",
    "pycharm": {
     "is_executing": false,
     "name": "#%%\n"
    }
   },
   "outputs": [
    {
     "data": {
      "text/html": [
       "<div>\n",
       "<style scoped>\n",
       "    .dataframe tbody tr th:only-of-type {\n",
       "        vertical-align: middle;\n",
       "    }\n",
       "\n",
       "    .dataframe tbody tr th {\n",
       "        vertical-align: top;\n",
       "    }\n",
       "\n",
       "    .dataframe thead th {\n",
       "        text-align: right;\n",
       "    }\n",
       "</style>\n",
       "<table border=\"1\" class=\"dataframe\">\n",
       "  <thead>\n",
       "    <tr style=\"text-align: right;\">\n",
       "      <th></th>\n",
       "      <th>Conta</th>\n",
       "      <th>Divisao</th>\n",
       "      <th>Loja</th>\n",
       "      <th>Saldo</th>\n",
       "      <th>DataVenc</th>\n",
       "      <th>dias</th>\n",
       "    </tr>\n",
       "  </thead>\n",
       "  <tbody>\n",
       "    <tr>\n",
       "      <th>0</th>\n",
       "      <td>S0000309077</td>\n",
       "      <td>246</td>\n",
       "      <td>20</td>\n",
       "      <td>13192.42</td>\n",
       "      <td>2001-01-01</td>\n",
       "      <td>364</td>\n",
       "    </tr>\n",
       "    <tr>\n",
       "      <th>1</th>\n",
       "      <td>S0000041943</td>\n",
       "      <td>87</td>\n",
       "      <td>3</td>\n",
       "      <td>260.97</td>\n",
       "      <td>2001-01-03</td>\n",
       "      <td>362</td>\n",
       "    </tr>\n",
       "    <tr>\n",
       "      <th>2</th>\n",
       "      <td>S0000143191</td>\n",
       "      <td>87</td>\n",
       "      <td>20</td>\n",
       "      <td>9541.28</td>\n",
       "      <td>2001-01-06</td>\n",
       "      <td>359</td>\n",
       "    </tr>\n",
       "    <tr>\n",
       "      <th>3</th>\n",
       "      <td>S0000459709</td>\n",
       "      <td>9045</td>\n",
       "      <td>20</td>\n",
       "      <td>2254.19</td>\n",
       "      <td>2001-01-10</td>\n",
       "      <td>355</td>\n",
       "    </tr>\n",
       "    <tr>\n",
       "      <th>4</th>\n",
       "      <td>S0000030187</td>\n",
       "      <td>139</td>\n",
       "      <td>4</td>\n",
       "      <td>2286.84</td>\n",
       "      <td>2001-01-10</td>\n",
       "      <td>355</td>\n",
       "    </tr>\n",
       "  </tbody>\n",
       "</table>\n",
       "</div>"
      ],
      "text/plain": [
       "         Conta  Divisao  Loja     Saldo   DataVenc  dias\n",
       "0  S0000309077      246    20  13192.42 2001-01-01   364\n",
       "1  S0000041943       87     3    260.97 2001-01-03   362\n",
       "2  S0000143191       87    20   9541.28 2001-01-06   359\n",
       "3  S0000459709     9045    20   2254.19 2001-01-10   355\n",
       "4  S0000030187      139     4   2286.84 2001-01-10   355"
      ]
     },
     "execution_count": 6,
     "metadata": {},
     "output_type": "execute_result"
    }
   ],
   "source": [
    "contas_receber = (contas_receber\n",
    "                    .assign(dias = (pd.to_datetime(\"2001-12-31\")-contas_receber.DataVenc).dt.days))\n",
    "\n",
    "contas_receber.head()\n"
   ]
  },
  {
   "cell_type": "markdown",
   "metadata": {
    "colab_type": "text",
    "id": "pwJ2twtRG5Dz"
   },
   "source": [
    "**Passo 4** - Com base no número de dias calculados no passo anterior, classificar os registros da base de dados conforme o número dias calculado dentro do escalonamento definido pelo auditor.\n",
    "\n",
    " No nosso exemplo estaremos interessados em classificar os registros nos seguintes intervalos: `0-30 dias`, `31-60 dias`, `61-90 dias`, `91-120 dias`, `121-150 dias`, `151-180 dias`, `mais de 180 dias`. Isto pode ser feito com a função `cut()`."
   ]
  },
  {
   "cell_type": "code",
   "execution_count": 7,
   "metadata": {
    "colab": {
     "base_uri": "https://localhost:8080/",
     "height": 204
    },
    "colab_type": "code",
    "id": "wTdwpTHQG_iW",
    "outputId": "59988362-db11-4ce0-c8d2-eec683850f94",
    "pycharm": {
     "is_executing": false,
     "name": "#%%\n"
    }
   },
   "outputs": [
    {
     "data": {
      "text/html": [
       "<div>\n",
       "<style scoped>\n",
       "    .dataframe tbody tr th:only-of-type {\n",
       "        vertical-align: middle;\n",
       "    }\n",
       "\n",
       "    .dataframe tbody tr th {\n",
       "        vertical-align: top;\n",
       "    }\n",
       "\n",
       "    .dataframe thead th {\n",
       "        text-align: right;\n",
       "    }\n",
       "</style>\n",
       "<table border=\"1\" class=\"dataframe\">\n",
       "  <thead>\n",
       "    <tr style=\"text-align: right;\">\n",
       "      <th></th>\n",
       "      <th>Conta</th>\n",
       "      <th>Divisao</th>\n",
       "      <th>Loja</th>\n",
       "      <th>Saldo</th>\n",
       "      <th>DataVenc</th>\n",
       "      <th>dias</th>\n",
       "      <th>aging</th>\n",
       "    </tr>\n",
       "  </thead>\n",
       "  <tbody>\n",
       "    <tr>\n",
       "      <th>0</th>\n",
       "      <td>S0000309077</td>\n",
       "      <td>246</td>\n",
       "      <td>20</td>\n",
       "      <td>13192.42</td>\n",
       "      <td>2001-01-01</td>\n",
       "      <td>364</td>\n",
       "      <td>&gt; 180</td>\n",
       "    </tr>\n",
       "    <tr>\n",
       "      <th>1</th>\n",
       "      <td>S0000041943</td>\n",
       "      <td>87</td>\n",
       "      <td>3</td>\n",
       "      <td>260.97</td>\n",
       "      <td>2001-01-03</td>\n",
       "      <td>362</td>\n",
       "      <td>&gt; 180</td>\n",
       "    </tr>\n",
       "    <tr>\n",
       "      <th>2</th>\n",
       "      <td>S0000143191</td>\n",
       "      <td>87</td>\n",
       "      <td>20</td>\n",
       "      <td>9541.28</td>\n",
       "      <td>2001-01-06</td>\n",
       "      <td>359</td>\n",
       "      <td>&gt; 180</td>\n",
       "    </tr>\n",
       "    <tr>\n",
       "      <th>3</th>\n",
       "      <td>S0000459709</td>\n",
       "      <td>9045</td>\n",
       "      <td>20</td>\n",
       "      <td>2254.19</td>\n",
       "      <td>2001-01-10</td>\n",
       "      <td>355</td>\n",
       "      <td>&gt; 180</td>\n",
       "    </tr>\n",
       "    <tr>\n",
       "      <th>4</th>\n",
       "      <td>S0000030187</td>\n",
       "      <td>139</td>\n",
       "      <td>4</td>\n",
       "      <td>2286.84</td>\n",
       "      <td>2001-01-10</td>\n",
       "      <td>355</td>\n",
       "      <td>&gt; 180</td>\n",
       "    </tr>\n",
       "  </tbody>\n",
       "</table>\n",
       "</div>"
      ],
      "text/plain": [
       "         Conta  Divisao  Loja     Saldo   DataVenc  dias  aging\n",
       "0  S0000309077      246    20  13192.42 2001-01-01   364  > 180\n",
       "1  S0000041943       87     3    260.97 2001-01-03   362  > 180\n",
       "2  S0000143191       87    20   9541.28 2001-01-06   359  > 180\n",
       "3  S0000459709     9045    20   2254.19 2001-01-10   355  > 180\n",
       "4  S0000030187      139     4   2286.84 2001-01-10   355  > 180"
      ]
     },
     "execution_count": 7,
     "metadata": {},
     "output_type": "execute_result"
    }
   ],
   "source": [
    "contas_receber = (contas_receber\n",
    "                    .assign(aging = pd.cut(contas_receber.dias,\n",
    "                                           bins=[0, 30, 60, 90, 120, 150, 180, np.inf],\n",
    "                                           labels=[\"0-30\", \"31-60\", \"61-90\", \"91-120\", \"121-150\", \"151-180\", \"> 180\"]))) \n",
    "\n",
    "contas_receber.head()"
   ]
  },
  {
   "cell_type": "markdown",
   "metadata": {
    "colab_type": "text",
    "id": "OLRE2EcQHEHd"
   },
   "source": [
    "**Passo 5** - Calcular o número de registros existentes em cada estrato, o valor total do faturamento em cada estrato e \n",
    "o faturamento médio em cada estrato.  Com os comandos a seguir realizamos esta etapa."
   ]
  },
  {
   "cell_type": "code",
   "execution_count": 8,
   "metadata": {
    "colab": {},
    "colab_type": "code",
    "id": "jZR9p36uHLCg",
    "pycharm": {
     "is_executing": false,
     "name": "#%%\n"
    }
   },
   "outputs": [],
   "source": [
    "perfil = (contas_receber\n",
    "            .groupby('aging')\n",
    "                .agg(QTD_REG = pd.NamedAgg(column='aging', aggfunc='count'),\n",
    "                     TOTAL = pd.NamedAgg(column='Saldo', aggfunc='sum'),\n",
    "                     SDO_MEDIO = pd.NamedAgg(column='Saldo', aggfunc='mean'))\n",
    "                    .reset_index())         \n",
    "        "
   ]
  },
  {
   "cell_type": "markdown",
   "metadata": {
    "colab_type": "text",
    "id": "qbCxZB6wHPJz"
   },
   "source": [
    "Após esses passos, o *aging* desejado consta do objeto `perfil`, cujo conteúdo é o seguinte:"
   ]
  },
  {
   "cell_type": "code",
   "execution_count": 9,
   "metadata": {
    "colab": {
     "base_uri": "https://localhost:8080/",
     "height": 225
    },
    "colab_type": "code",
    "id": "pePrRxSoHWSS",
    "outputId": "4fa6969b-832b-42a2-c70c-4c01f87e8f72",
    "pycharm": {
     "is_executing": false,
     "name": "#%%\n"
    }
   },
   "outputs": [
    {
     "data": {
      "text/html": [
       "<div>\n",
       "<style scoped>\n",
       "    .dataframe tbody tr th:only-of-type {\n",
       "        vertical-align: middle;\n",
       "    }\n",
       "\n",
       "    .dataframe tbody tr th {\n",
       "        vertical-align: top;\n",
       "    }\n",
       "\n",
       "    .dataframe thead th {\n",
       "        text-align: right;\n",
       "    }\n",
       "</style>\n",
       "<table border=\"1\" class=\"dataframe\">\n",
       "  <thead>\n",
       "    <tr style=\"text-align: right;\">\n",
       "      <th></th>\n",
       "      <th>aging</th>\n",
       "      <th>QTD_REG</th>\n",
       "      <th>TOTAL</th>\n",
       "      <th>SDO_MEDIO</th>\n",
       "    </tr>\n",
       "  </thead>\n",
       "  <tbody>\n",
       "    <tr>\n",
       "      <th>0</th>\n",
       "      <td>0-30</td>\n",
       "      <td>491</td>\n",
       "      <td>4619781.17</td>\n",
       "      <td>9408.922953</td>\n",
       "    </tr>\n",
       "    <tr>\n",
       "      <th>1</th>\n",
       "      <td>31-60</td>\n",
       "      <td>232</td>\n",
       "      <td>2546459.20</td>\n",
       "      <td>10976.117241</td>\n",
       "    </tr>\n",
       "    <tr>\n",
       "      <th>2</th>\n",
       "      <td>61-90</td>\n",
       "      <td>17</td>\n",
       "      <td>136679.97</td>\n",
       "      <td>8039.998235</td>\n",
       "    </tr>\n",
       "    <tr>\n",
       "      <th>3</th>\n",
       "      <td>91-120</td>\n",
       "      <td>15</td>\n",
       "      <td>108878.64</td>\n",
       "      <td>7258.576000</td>\n",
       "    </tr>\n",
       "    <tr>\n",
       "      <th>4</th>\n",
       "      <td>121-150</td>\n",
       "      <td>11</td>\n",
       "      <td>145862.53</td>\n",
       "      <td>13260.230000</td>\n",
       "    </tr>\n",
       "    <tr>\n",
       "      <th>5</th>\n",
       "      <td>151-180</td>\n",
       "      <td>7</td>\n",
       "      <td>31611.22</td>\n",
       "      <td>4515.888571</td>\n",
       "    </tr>\n",
       "    <tr>\n",
       "      <th>6</th>\n",
       "      <td>&gt; 180</td>\n",
       "      <td>216</td>\n",
       "      <td>2376875.23</td>\n",
       "      <td>11004.051991</td>\n",
       "    </tr>\n",
       "  </tbody>\n",
       "</table>\n",
       "</div>"
      ],
      "text/plain": [
       "     aging  QTD_REG       TOTAL     SDO_MEDIO\n",
       "0     0-30      491  4619781.17   9408.922953\n",
       "1    31-60      232  2546459.20  10976.117241\n",
       "2    61-90       17   136679.97   8039.998235\n",
       "3   91-120       15   108878.64   7258.576000\n",
       "4  121-150       11   145862.53  13260.230000\n",
       "5  151-180        7    31611.22   4515.888571\n",
       "6    > 180      216  2376875.23  11004.051991"
      ]
     },
     "execution_count": 9,
     "metadata": {},
     "output_type": "execute_result"
    }
   ],
   "source": [
    "perfil"
   ]
  },
  {
   "cell_type": "markdown",
   "metadata": {
    "colab_type": "text",
    "id": "76i8WNL0HdQm"
   },
   "source": [
    "Para melhorar um pouco mais esse *aging* serão criadas duas novas colunas para indicar os percentuais que cada classe representa do total."
   ]
  },
  {
   "cell_type": "code",
   "execution_count": 10,
   "metadata": {
    "colab": {
     "base_uri": "https://localhost:8080/",
     "height": 225
    },
    "colab_type": "code",
    "id": "wxqmwKI7HesV",
    "outputId": "df17505d-920b-4ef7-938d-71242689edba",
    "pycharm": {
     "is_executing": false,
     "name": "#%%\n"
    }
   },
   "outputs": [
    {
     "data": {
      "text/html": [
       "<div>\n",
       "<style scoped>\n",
       "    .dataframe tbody tr th:only-of-type {\n",
       "        vertical-align: middle;\n",
       "    }\n",
       "\n",
       "    .dataframe tbody tr th {\n",
       "        vertical-align: top;\n",
       "    }\n",
       "\n",
       "    .dataframe thead th {\n",
       "        text-align: right;\n",
       "    }\n",
       "</style>\n",
       "<table border=\"1\" class=\"dataframe\">\n",
       "  <thead>\n",
       "    <tr style=\"text-align: right;\">\n",
       "      <th></th>\n",
       "      <th>aging</th>\n",
       "      <th>QTD_REG</th>\n",
       "      <th>TOTAL</th>\n",
       "      <th>SDO_MEDIO</th>\n",
       "      <th>QTD_REG_PCT</th>\n",
       "      <th>TOTAL_PCT</th>\n",
       "    </tr>\n",
       "  </thead>\n",
       "  <tbody>\n",
       "    <tr>\n",
       "      <th>0</th>\n",
       "      <td>0-30</td>\n",
       "      <td>491</td>\n",
       "      <td>4619781.17</td>\n",
       "      <td>9408.922953</td>\n",
       "      <td>49.65</td>\n",
       "      <td>46.35</td>\n",
       "    </tr>\n",
       "    <tr>\n",
       "      <th>1</th>\n",
       "      <td>31-60</td>\n",
       "      <td>232</td>\n",
       "      <td>2546459.20</td>\n",
       "      <td>10976.117241</td>\n",
       "      <td>23.46</td>\n",
       "      <td>25.55</td>\n",
       "    </tr>\n",
       "    <tr>\n",
       "      <th>2</th>\n",
       "      <td>61-90</td>\n",
       "      <td>17</td>\n",
       "      <td>136679.97</td>\n",
       "      <td>8039.998235</td>\n",
       "      <td>1.72</td>\n",
       "      <td>1.37</td>\n",
       "    </tr>\n",
       "    <tr>\n",
       "      <th>3</th>\n",
       "      <td>91-120</td>\n",
       "      <td>15</td>\n",
       "      <td>108878.64</td>\n",
       "      <td>7258.576000</td>\n",
       "      <td>1.52</td>\n",
       "      <td>1.09</td>\n",
       "    </tr>\n",
       "    <tr>\n",
       "      <th>4</th>\n",
       "      <td>121-150</td>\n",
       "      <td>11</td>\n",
       "      <td>145862.53</td>\n",
       "      <td>13260.230000</td>\n",
       "      <td>1.11</td>\n",
       "      <td>1.46</td>\n",
       "    </tr>\n",
       "    <tr>\n",
       "      <th>5</th>\n",
       "      <td>151-180</td>\n",
       "      <td>7</td>\n",
       "      <td>31611.22</td>\n",
       "      <td>4515.888571</td>\n",
       "      <td>0.71</td>\n",
       "      <td>0.32</td>\n",
       "    </tr>\n",
       "    <tr>\n",
       "      <th>6</th>\n",
       "      <td>&gt; 180</td>\n",
       "      <td>216</td>\n",
       "      <td>2376875.23</td>\n",
       "      <td>11004.051991</td>\n",
       "      <td>21.84</td>\n",
       "      <td>23.85</td>\n",
       "    </tr>\n",
       "  </tbody>\n",
       "</table>\n",
       "</div>"
      ],
      "text/plain": [
       "     aging  QTD_REG       TOTAL     SDO_MEDIO  QTD_REG_PCT  TOTAL_PCT\n",
       "0     0-30      491  4619781.17   9408.922953        49.65      46.35\n",
       "1    31-60      232  2546459.20  10976.117241        23.46      25.55\n",
       "2    61-90       17   136679.97   8039.998235         1.72       1.37\n",
       "3   91-120       15   108878.64   7258.576000         1.52       1.09\n",
       "4  121-150       11   145862.53  13260.230000         1.11       1.46\n",
       "5  151-180        7    31611.22   4515.888571         0.71       0.32\n",
       "6    > 180      216  2376875.23  11004.051991        21.84      23.85"
      ]
     },
     "execution_count": 10,
     "metadata": {},
     "output_type": "execute_result"
    }
   ],
   "source": [
    "perfil = (perfil\n",
    "            .assign(QTD_REG_PCT = round((perfil.QTD_REG / sum(perfil.QTD_REG))*100, ndigits=2),\n",
    "                    TOTAL_PCT   = lambda x: round((x.TOTAL / sum(x.TOTAL) * 100), ndigits=2)))\n",
    "\n",
    "\n",
    "perfil"
   ]
  },
  {
   "cell_type": "markdown",
   "metadata": {
    "colab_type": "text",
    "id": "2mm-yqXtnCgm"
   },
   "source": [
    "<br>\n",
    "\n",
    "---\n",
    "\n",
    "![](./imagens/sua_vez_fundo_transp.png) **Agora é com você...**\n",
    "\n",
    "---\n"
   ]
  },
  {
   "cell_type": "markdown",
   "metadata": {
    "colab_type": "text",
    "id": "XGO4TOgIpVoR"
   },
   "source": [
    "<br>\n",
    "\n",
    "**1** - XXX"
   ]
  },
  {
   "cell_type": "code",
   "execution_count": 10,
   "metadata": {
    "colab": {},
    "colab_type": "code",
    "id": "9AL8myR1pfGb",
    "pycharm": {
     "is_executing": false
    }
   },
   "outputs": [],
   "source": []
  },
  {
   "cell_type": "markdown",
   "metadata": {
    "colab_type": "text",
    "id": "HH1cuXqIqa68"
   },
   "source": [
    "<br>\n",
    "\n",
    "**2** - XXX"
   ]
  },
  {
   "cell_type": "code",
   "execution_count": 10,
   "metadata": {
    "colab": {},
    "colab_type": "code",
    "id": "dwfOodgur_mQ",
    "pycharm": {
     "is_executing": false
    }
   },
   "outputs": [],
   "source": []
  },
  {
   "cell_type": "markdown",
   "metadata": {
    "colab_type": "text",
    "id": "aQQKphcdV9dP"
   },
   "source": [
    "<br>\n",
    "\n",
    "**3** - XXX"
   ]
  },
  {
   "cell_type": "code",
   "execution_count": 10,
   "metadata": {
    "colab": {},
    "colab_type": "code",
    "id": "auWf2l3aW-VT",
    "pycharm": {
     "is_executing": false
    }
   },
   "outputs": [],
   "source": []
  },
  {
   "cell_type": "markdown",
   "metadata": {
    "colab_type": "text",
    "id": "8J7kIsPpYufh",
    "pycharm": {
     "name": "#%% md\n"
    }
   },
   "source": [
    "<br>\n",
    "\n",
    "**4** - XXX"
   ]
  },
  {
   "cell_type": "code",
   "execution_count": 10,
   "metadata": {
    "pycharm": {
     "is_executing": false,
     "name": "#%%"
    }
   },
   "outputs": [],
   "source": []
  }
 ],
 "metadata": {
  "colab": {
   "collapsed_sections": [],
   "name": "07.Aging.ipynb",
   "provenance": []
  },
  "kernelspec": {
   "display_name": "Python 3",
   "language": "python",
   "name": "python3"
  },
  "language_info": {
   "codemirror_mode": {
    "name": "ipython",
    "version": 3
   },
   "file_extension": ".py",
   "mimetype": "text/x-python",
   "name": "python",
   "nbconvert_exporter": "python",
   "pygments_lexer": "ipython3",
   "version": "3.7.1"
  },
  "pycharm": {
   "stem_cell": {
    "cell_type": "raw",
    "source": [],
    "metadata": {
     "collapsed": false
    }
   }
  }
 },
 "nbformat": 4,
 "nbformat_minor": 1
}